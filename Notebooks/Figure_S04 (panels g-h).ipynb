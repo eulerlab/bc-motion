{
 "cells": [
  {
   "cell_type": "code",
   "execution_count": 1,
   "metadata": {
    "code_folding": []
   },
   "outputs": [],
   "source": [
    "#% matplotlib inline\n",
    "\n",
    "from datetime import datetime \n",
    "import h5py\n",
    "import matplotlib.pyplot as plt \n",
    "import numpy as np\n",
    "import os\n",
    "import pandas as pd\n",
    "import seaborn as sns\n",
    "import time\n",
    "import scipy as scp\n",
    "import matplotlib.cm as cm\n",
    "from matplotlib import colors\n",
    "from matplotlib.colors import LinearSegmentedColormap\n",
    "cmap = cm.get_cmap('Blues')\n",
    "import random\n",
    "from numpy.linalg import lstsq"
   ]
  },
  {
   "cell_type": "code",
   "execution_count": null,
   "metadata": {
    "code_folding": [
     0
    ]
   },
   "outputs": [],
   "source": [
    "# #in these fields, the shift is only 1 pixel, so they can't really be better aligned. Going to just go with them as-is\n",
    "# ls_keyB = dict(\n",
    "#                 experimenter = 'Vlasits',\n",
    "#                 date = '20200806',\n",
    "#                 exp_num = 1,\n",
    "#                 field_id = 39,\n",
    "#                 resample_f_id = 1,\n",
    "#                 preprocess_param_set_id = 1,\n",
    "#                 gp_bct_id = 3\n",
    "                            \n",
    "#                             )\n",
    "\n",
    "# noise_keyB = dict(experimenter = \"Vlasits\",\n",
    "#            date = \"2020-08-06\",\n",
    "#            exp_num = 1, \n",
    "#            field_id = 41,\n",
    "#            preprocess_param_set_id = 1,\n",
    "#            spline_roi_param_id = 2,\n",
    "#            spline_params_id = 1,\n",
    "# )\n",
    "\n",
    "\n",
    "# ls_keyA = dict(\n",
    "#                 experimenter = 'Vlasits',\n",
    "#                 date = '20200804',\n",
    "#                 exp_num = 2,\n",
    "#                 field_id = 4,\n",
    "#                 resample_f_id = 1,\n",
    "#                 preprocess_param_set_id = 1,\n",
    "#                 gp_bct_id = 3\n",
    "                            \n",
    "#                             )\n",
    "\n",
    "# noise_keyA = dict(experimenter = \"Vlasits\",\n",
    "#            date = \"2020-08-04\",\n",
    "#            exp_num = 2, \n",
    "#            field_id = 7,\n",
    "#            preprocess_param_set_id = 1,\n",
    "#            spline_roi_param_id = 2,\n",
    "#            spline_params_id = 1,\n",
    "# )\n",
    "\n",
    "\n",
    "# ls_keyC = dict(\n",
    "#                 experimenter = 'Vlasits',\n",
    "#                 date = '20200806',\n",
    "#                 exp_num = 1,\n",
    "#                 field_id = 23,\n",
    "#                 resample_f_id = 1,\n",
    "#                 preprocess_param_set_id = 1,\n",
    "#                 gp_bct_id = 3\n",
    "                            \n",
    "#                             )\n",
    "\n",
    "# noise_keyC = dict(experimenter = \"Vlasits\",\n",
    "#            date = \"2020-08-06\",\n",
    "#            exp_num = 1, \n",
    "#            field_id = 25,\n",
    "#            preprocess_param_set_id = 1,\n",
    "#            spline_roi_param_id = 1, #WARNING THIS IS DIFFERENT\n",
    "#            spline_params_id = 1,\n",
    "# )"
   ]
  },
  {
   "cell_type": "markdown",
   "metadata": {},
   "source": [
    "# Functions below are show as examples but will not run without the datajoint database"
   ]
  },
  {
   "cell_type": "code",
   "execution_count": null,
   "metadata": {
    "code_folding": [
     2
    ]
   },
   "outputs": [],
   "source": [
    "# import scipy.signal\n",
    "\n",
    "# def cross_image(im1, im2):\n",
    "#     # get rid of the averages, otherwise the results are not good\n",
    "#     im1_gray = im1 - np.mean(im1)\n",
    "#     im2_gray = im2 - np.mean(im2)\n",
    "\n",
    "#     # calculate the correlation image; note the flipping of one of the images\n",
    "#     return scipy.signal.fftconvolve(im1_gray, im2_gray[::-1,::-1], mode='same')"
   ]
  },
  {
   "cell_type": "code",
   "execution_count": null,
   "metadata": {
    "code_folding": [
     0,
     29
    ]
   },
   "outputs": [],
   "source": [
    "# def get_common_rois(ls_key, noise_key, shift):\n",
    "#     # get the SD and the roi mask for this field\n",
    "\n",
    "#     path = (Experiment() & ls_key).fetch1('headerpath')\n",
    "#     path = path + 'Pre/'\n",
    "#     file = (Field.RoiMask() & ls_key).fetch1('fromfile')\n",
    "#     dataFile, dataCh0, osparams, trigtimesF = LoadData.loadhdf5data(path, file)\n",
    "\n",
    "#     #calculate std\n",
    "#     ls_std = np.std(dataCh0, axis=2)  # standard deviation across time\n",
    "#     ls_avg_projection = np.mean(dataCh0, axis=2)\n",
    "\n",
    "#     ls_roimask = (Field.RoiMask() & ls_key).fetch1('roi_mask')\n",
    "#     ls_x_zoom = (Presentation.ScanInfo() & ls_key).fetch1('zoom')\n",
    "    \n",
    "#     # get the SD and the roi mask for this field\n",
    "\n",
    "#     path = (Experiment() & noise_key).fetch1('headerpath')\n",
    "#     path = path + 'Pre/'\n",
    "#     file = (Field.RoiMask() & noise_key).fetch1('fromfile')\n",
    "#     dataFile, dataCh0, osparams, trigtimesF = LoadData.loadhdf5data(path, file)\n",
    "\n",
    "#     #calculate std\n",
    "#     noise_std = np.std(dataCh0, axis=2)  # standard deviation across time\n",
    "#     noise_avg_projection = np.mean(dataCh0, axis=2)\n",
    "\n",
    "#     noise_roimask = (Field.RoiMask() & noise_key).fetch1('roi_mask')\n",
    "#     noise_x_zoom = (Presentation.ScanInfo() & noise_key).fetch1('zoom')\n",
    "    \n",
    "#     if shift==1:\n",
    "#         #check the image alignment\n",
    "#         corr_img_ftt = cross_image(noise_avg_projection[4:,:], ls_avg_projection[4:,:])\n",
    "#         corr_img_ftt_test = cross_image(noise_avg_projection[4:,:], noise_avg_projection[4:,:])\n",
    "#         ind = np.unravel_index(np.argmax(corr_img_ftt, axis=None), corr_img_ftt.shape)\n",
    "#         ind_test = np.unravel_index(np.argmax(corr_img_ftt_test, axis=None), corr_img_ftt_test.shape)\n",
    "\n",
    "#         shift = np.array(ind) - np.array(ind_test)\n",
    "#         x_shift = shift[1]\n",
    "#         y_shift = shift[0]\n",
    "    \n",
    "#         corr_fixed_x = cross_image(noise_avg_projection[4-(x_shift):,-y_shift:], ls_avg_projection[4:,:]) #ls_avg_projection[4:-y_shift,:-x_shift]\n",
    "#         ind_fixed_x = np.unravel_index(np.argmax(corr_fixed_x, axis=None), corr_fixed_x.shape)\n",
    "\n",
    "#         shifty = np.array(ind_fixed_x) - np.array(ind_test)\n",
    "#         x_shifty = shifty[1]\n",
    "#         y_shifty = shifty[0]\n",
    "        \n",
    "#         corr_fixed_xy = cross_image(noise_avg_projection[4:,:], ls_avg_projection[4:-(y_shifty+y_shift),:-(x_shifty+x_shift)])\n",
    "#         ind_fixed_xy = np.unravel_index(np.argmax(corr_fixed_xy, axis=None), corr_fixed_xy.shape)\n",
    "\n",
    "#     # get the common ROIs\n",
    "#     center_px_ids, pixel_lists = (NoiseSplineROIs() & noise_key).fetch('center_pixel_id', 'pixel_list')\n",
    "#     threshold_count = 4\n",
    "#     dsmap0 = noise_roimask*(-1)*1000\n",
    "#     xlength = dsmap0.shape[0]\n",
    "#     ylength = dsmap0.shape[1]\n",
    "#     center_px_for_noise = [] # gives the center pixel ids that have a possible match\n",
    "#     gp_pixel_lists = [] # gives a list of pixels that has a possible match\n",
    "\n",
    "#     for i, pixel_list in enumerate(pixel_lists): #take each noise pixel list\n",
    "#         x_list = []\n",
    "#         y_list = []\n",
    "\n",
    "#         for x in range(xlength):\n",
    "#             for y in range(ylength):  \n",
    "#                 if dsmap0[x,y]/1000 in pixel_list:\n",
    "#         #             print(x,y)\n",
    "#                     x_list.append(x) #make list of x and y coordinates of each pixel\n",
    "#                     y_list.append(y)\n",
    "\n",
    "#         x_list_shifted = np.array(x_list) #- (y_shift + y_shifty)\n",
    "\n",
    "#         y_list_shifted = np.array(y_list) #- (x_shift + x_shifty)\n",
    "\n",
    "#         count = 0\n",
    "#         gp_pixel_group = []\n",
    "#         for j, x in enumerate(x_list_shifted):\n",
    "#             y = y_list_shifted[j]\n",
    "#         #     print(ls_roimask[x, y])\n",
    "#             if ls_roimask[x, y]<0:\n",
    "#                 count+=1\n",
    "#                 #get the pixel in gp that corresponds to the pixel in noise\n",
    "#                 gp_pixel_group.append(ls_roimask[x, y]*-1) \n",
    "\n",
    "#         #\n",
    "#         if count>threshold_count:\n",
    "#             center_px_for_noise.append(center_px_ids[i]) # this is not right\n",
    "#             gp_pixel_lists.append(gp_pixel_group)\n",
    "    \n",
    "#     center_px_ls, roi_lists_ls = (GaussianProcessBct() & ls_key).fetch('center_pixel_id', \"roi_list\")\n",
    "#     matches = []\n",
    "#     center_pixels_gp = []\n",
    "#     center_pixels_noise = []\n",
    "\n",
    "#     for i, roi_list in enumerate(roi_lists_ls):\n",
    "#         if roi_list in gp_pixel_lists:\n",
    "#     #         print(i)\n",
    "#             matches.append(roi_list)\n",
    "#             center_pixels_gp.append(center_px_ls[i])\n",
    "#             noise_index = gp_pixel_lists.index(roi_list)\n",
    "#             center_pixels_noise.append(center_px_for_noise[noise_index])\n",
    "    \n",
    "#     return center_pixels_gp, center_pixels_noise, ls_roimask, noise_roimask"
   ]
  },
  {
   "cell_type": "code",
   "execution_count": null,
   "metadata": {
    "code_folding": [
     0
    ]
   },
   "outputs": [],
   "source": [
    "# def get_svg_parameters_on_screen(dendrite_length, moving_bar_length, stimulus_velocity,\n",
    "#                              starting_point, distance_covered, real_time_lag, time_points, space_per_pixel):\n",
    "#     temporal_conversion = time_points / real_time_lag  # From seconds to pixel.\n",
    "#     spatial_conversion = 1 / space_per_pixel  # From um to pixel.\n",
    "\n",
    "#     # Moving bar is already fully on screen at t = 0\n",
    "#     distance_moved = distance_covered - moving_bar_length  # [um]\n",
    "#     stimulation_time = (distance_moved / stimulus_velocity)  # [s]\n",
    "\n",
    "#     # Convert from seconds & um to pixel\n",
    "#     stimulation_time_pixel = stimulation_time * temporal_conversion\n",
    "# #     print(stimulation_time, stimulation_time_pixel)\n",
    "#     distance_moved_pixel = distance_moved * spatial_conversion\n",
    "#     dendrite_length_pixel = dendrite_length * spatial_conversion\n",
    "#     moving_bar_length_pixel = moving_bar_length * spatial_conversion\n",
    "#     starting_point_pixel = starting_point * spatial_conversion\n",
    "#     distance_covered_pixel = distance_covered * spatial_conversion\n",
    "\n",
    "#     # Slope of diagonal\n",
    "#     slope = -stimulation_time_pixel / distance_moved_pixel\n",
    "\n",
    "#     # Calculate thickness of diagonal\n",
    "#     alpha = np.arctan(stimulation_time_pixel / distance_moved_pixel)\n",
    "#     diagonal_thickness = moving_bar_length_pixel * np.sin(alpha)\n",
    "\n",
    "#     # Calculate coordinates for beginning & end of diagonal\n",
    "#     # Diagonal starts and ends out of picture to allow for a smooth & exact picture.\n",
    "#     x_start = starting_point_pixel\n",
    "#     x_stop = x_start + distance_covered_pixel\n",
    "\n",
    "#     y_start = (moving_bar_length_pixel / 2) * slope  # Negative\n",
    "#     y_stop = stimulation_time_pixel - y_start\n",
    "\n",
    "# #      print(stimulation_time_pixel, dendrite_length_pixel,\n",
    "# #             diagonal_thickness,\n",
    "# #             x_start, x_stop, y_start, y_stop)\n",
    "    \n",
    "#     return (stimulation_time_pixel, dendrite_length_pixel,\n",
    "#             diagonal_thickness,\n",
    "#             x_start, x_stop, y_start, y_stop)"
   ]
  },
  {
   "cell_type": "code",
   "execution_count": null,
   "metadata": {
    "code_folding": [
     0
    ]
   },
   "outputs": [],
   "source": [
    "# def make_stimuli_convolution(noise_key):\n",
    "#     distances = [120, 170, 320]\n",
    "#     # responses = []\n",
    "#     stimulus_images = []\n",
    "\n",
    "#     field = noise_key\n",
    "#     real_time_lag, time_points = (NoiseDesignMatrix2() & field).fetch1('real_time_lag', 'time_points')\n",
    "#     space_per_pixelx, space_per_pixely = (StimulusParams.NoiseParams() & field).fetch1('box_dx_um', 'box_dy_um')\n",
    "#     if space_per_pixelx < space_per_pixely:  # check which is the shorter dimension of the stimulus\n",
    "#         space_per_pixel = space_per_pixelx\n",
    "#     else:\n",
    "#         space_per_pixel = space_per_pixely\n",
    "\n",
    "#     for dist_cov in distances:\n",
    "\n",
    "#         #Set up the stimuli for convolution\n",
    "#         convolution_params = dict()\n",
    "#         convolution_params['stimulus_velocity'] = 500 # WARNING altering this to play around with velocity tuning\n",
    "#         convolution_params['dendrite_length'] = 400 #need to change this to cover the whole trajectory\n",
    "#         convolution_params['distance_covered'] = dist_cov\n",
    "#         convolution_params['starting_point'] = 300 - convolution_params['distance_covered']\n",
    "#         convolution_params['moving_bar_length'] = 20\n",
    "\n",
    "#         time, dend, diag, x_start, x_stop, y_start, y_stop = get_svg_parameters_on_screen(\n",
    "#             convolution_params['dendrite_length'],\n",
    "#             convolution_params['moving_bar_length'],\n",
    "#             convolution_params['stimulus_velocity'],\n",
    "#             convolution_params['starting_point'],\n",
    "#             convolution_params['distance_covered'],\n",
    "#             real_time_lag,\n",
    "#             time_points,\n",
    "#             space_per_pixel\n",
    "#         )\n",
    "\n",
    "#         string_svg = \"\"\"<svg width=\"{0}\" height=\"{1}\" viewBox=\"0 0 {2} {3}\">\n",
    "#             <rect x=\"0\" y=\"0\" width=\"{4}\" height=\"{5}\" fill=\"black\" />\n",
    "#               <line x1=\"{6}\" y1=\"{7}\" x2=\"{8}\" y2=\"{9}\"\n",
    "#                   stroke-width=\"{10}\" stroke=\"white\" stroke-linecap=\"square\"/>\n",
    "#             </svg>\"\"\".format(dend, time, dend, time, dend, time, x_start, y_start, x_stop, y_stop, diag)\n",
    "\n",
    "#         folder_str = 'Data/'\n",
    "#         file_name = str(1)\n",
    "#         name_svg = folder_str + file_name + \".svg\"\n",
    "#         name_png = folder_str + file_name + \".png\"\n",
    "#         new_file = open(name_svg, \"wt\")\n",
    "#         new_file.write(string_svg)\n",
    "#         new_file.close()\n",
    "\n",
    "#         cairosvg.svg2png(url=name_svg, write_to=name_png)\n",
    "#         stimulus_image = np.array(Image.open(name_png).convert('L'))\n",
    "#         stimulus_images.append(stimulus_image)\n",
    "        \n",
    "#     return stimulus_images"
   ]
  },
  {
   "cell_type": "code",
   "execution_count": null,
   "metadata": {
    "code_folding": [
     0
    ]
   },
   "outputs": [],
   "source": [
    "# def get_convolutions(center_pixels_noise, stim_image_index, noise_key, stimulus_images):\n",
    "#     # get the predicted responses for all of the ROIs in this field for this stimulus condition\n",
    "#     responses = []\n",
    "#     responses_rev = []\n",
    "\n",
    "# #     stim_image_index = 0\n",
    "#     stimulus_image = stimulus_images[stim_image_index] #100 length is 0\n",
    "\n",
    "#     for noise_px_id in center_pixels_noise:\n",
    "#         noisepx = 'center_pixel_id ='+str(noise_px_id)\n",
    "#         noise_spline = (NoiseSplineRF2() & noise_key & noisepx).fetch1('spl')\n",
    "\n",
    "#         # set up and crop the kernels\n",
    "#         spline = noise_spline\n",
    "#         edge_buffer = 15\n",
    "#         stimulus_image_rev = np.flip(stimulus_image, axis=0)\n",
    "#         stimulus_images.append(stimulus_image_rev)\n",
    "#         kernel_type = 'full'\n",
    "#         kernel_length = stimulus_image.shape[1]  # needs to be the same length as the stimulus\n",
    "#         # get the location of the RF center in the kernel\n",
    "#         spline_temp = spline[edge_buffer:-edge_buffer, :]\n",
    "#         # crop the kernel depending on the type of experiment\n",
    "#         if kernel_type == 'full':\n",
    "#             spline_cut = spline[edge_buffer:-edge_buffer,\n",
    "#                          0:kernel_length]  # should be full kernel, just adding space range just in case\n",
    "#         else:\n",
    "#             spline_cut = spline  # just to make the code happy, this should never be the option\n",
    "#         # check whether cut spline is big enough\n",
    "#         space_length = spline_cut.shape[1]\n",
    "\n",
    "\n",
    "#         #convolve!\n",
    "#         if kernel_length == space_length:\n",
    "#             empty_flag = 0\n",
    "#             # setup output variables\n",
    "#             convolved_response = np.zeros((spline_cut.shape[0] + stimulus_image.shape[0] - 1, spline_cut.shape[1]))\n",
    "#             convolved_response_rev = np.zeros((spline_cut.shape[0] + stimulus_image.shape[0] - 1, spline_cut.shape[1]))\n",
    "#             # loop through x positions and convolve\n",
    "#             for x_position in range(stimulus_image.shape[1]):\n",
    "#                 ker = np.flip(spline_cut[:, x_position])\n",
    "#                 img = stimulus_image[:, x_position]\n",
    "#                 img2 = stimulus_image_rev[:, x_position]\n",
    "#                 # and then convolve these two\n",
    "#                 convolved_response[:, x_position] = np.convolve(a=img, v=ker, mode='full')\n",
    "#                 convolved_response_rev[:, x_position] = np.convolve(a=img2, v=ker, mode='full')\n",
    "#         else:\n",
    "#             empty_flag = 1\n",
    "#             convolved_response = []\n",
    "#             convolved_response_rev = []\n",
    "#         response = np.sum(convolved_response, axis=1)\n",
    "#         response_rev = np.sum(convolved_response_rev, axis=1)\n",
    "#         responses.append(response)\n",
    "#         responses_rev.append(response_rev)\n",
    "        \n",
    "#     return responses, responses_rev    "
   ]
  },
  {
   "cell_type": "code",
   "execution_count": null,
   "metadata": {
    "code_folding": [
     0
    ]
   },
   "outputs": [],
   "source": [
    "# def do_correlations(responses, responses_rev, ls_key, center_pixels_gp, index1, index2):\n",
    "#     # get the corresponding GP response\n",
    "\n",
    "#     time_cut = 1.1 # aligning the beginning of the convolutions and GP predictions\n",
    "#     dilation = 1.15 # adjusting the time scale manually to get better fits.  \n",
    "\n",
    "#     #these match the 100 out conditions\n",
    "#     gp_index = [3, 0, 5, 2, 4, 1]\n",
    "# #     index1 = 0\n",
    "# #     index2 = 1\n",
    "\n",
    "#     corrs = []\n",
    "#     corrs_rev = []\n",
    "#     gp_interp = []\n",
    "#     gp_interp_rev = []\n",
    "#     responses_scaled = []\n",
    "#     responses_scaled_rev = []\n",
    "\n",
    "#     for i, response in enumerate(responses):\n",
    "#         response_rev = responses_rev[i]\n",
    "\n",
    "#         gppx = 'center_pixel_id ='+str(center_pixels_gp[i])\n",
    "#         gp_result = (GaussianProcessBct() & ls_key & gppx).fetch1()\n",
    "#         mu = gp_result['mu']\n",
    "#         x_predict = gp_result['x_predict']\n",
    "#         sig = gp_result['sig']\n",
    "#         sig_outer = gp_result['sig_outer']\n",
    "#         x_predict_t = np.copy(x_predict[::mu.shape[0],:])\n",
    "\n",
    "#         norm_factor = response.max()#np.array([response.max() for response in responses]).max()\n",
    "#         scale_factor = (mu[gp_index[index1],:][np.where(x_predict_t[:,0]>time_cut)]).max() #/sd_of_trace\n",
    "\n",
    "#         #Calculate correlation outward\n",
    "#         gp_x = x_predict_t[:,0][np.where(x_predict_t[:,0]>time_cut)]\n",
    "#         gp_y = mu[gp_index[index1],:][np.where(x_predict_t[:,0]>time_cut)]#/sd_of_trace\n",
    "#         x_scale_pred = np.linspace(time_cut, 1+(response.shape[0]*2*dilation)/1000, (response.shape[0]))\n",
    "#         y_vals_pred = response*scale_factor/norm_factor\n",
    "#         start = x_scale_pred.min()\n",
    "#         stop = x_scale_pred.max()\n",
    "#         x = np.linspace(start, stop, num=response.shape[0]) \n",
    "#         interp_gp = np.interp(x, gp_x, gp_y)\n",
    "#         gp_noise_corr = scipy.stats.pearsonr(list(interp_gp), list(y_vals_pred))\n",
    "#         corrs.append(gp_noise_corr)\n",
    "#         gp_interp.append(interp_gp)\n",
    "#         responses_scaled.append(y_vals_pred)\n",
    "\n",
    "#         #Calculate correlation inward\n",
    "#         gp_y = mu[gp_index[index2],:][np.where(x_predict_t[:,0]>time_cut)]#/sd_of_trace\n",
    "#         y_vals_pred = response_rev*scale_factor/norm_factor\n",
    "#         interp_gp = np.interp(x, gp_x, gp_y)\n",
    "#         gp_noise_corr = scipy.stats.pearsonr(list(interp_gp), list(y_vals_pred))\n",
    "#         corrs_rev.append(gp_noise_corr)\n",
    "#         gp_interp_rev.append(interp_gp)\n",
    "#         responses_scaled_rev.append(y_vals_pred)\n",
    "#     return corrs, corrs_rev, gp_interp, gp_interp_rev, responses_scaled, responses_scaled_rev"
   ]
  },
  {
   "cell_type": "code",
   "execution_count": null,
   "metadata": {
    "code_folding": [
     0
    ]
   },
   "outputs": [],
   "source": [
    "# def organize_correlations(corrs, corrs_rev, ls_key, center_pixels_gp, ls_roimask, center_shift):\n",
    "#     pearson_r_vals = np.array([corr[0] for corr in corrs])\n",
    "#     pearson_r_vals_rev = np.array([corrs_rev[0] for corrs_rev in corrs_rev])\n",
    "#     p_values = np.array([corrs_rev[1] for corrs_rev in corrs_rev])\n",
    "#     p_values_rev = np.array([corr[1] for corr in corrs])\n",
    "#     significant = np.where(p_values<0.05)[0]\n",
    "#     pixels_gp = np.array(center_pixels_gp)\n",
    "    \n",
    "#     x_positions_gp = np.zeros(pixels_gp.shape)\n",
    "\n",
    "#     for i in range(pixels_gp.shape[0]):\n",
    "#         x_positions_gp[i] = np.where(ls_roimask == -1*pixels_gp[i])[0][0]\n",
    "\n",
    "#     zoom = (Presentation.ScanInfo() & ls_key).fetch1('zoom')\n",
    "#     um_pixel = (71.5/zoom)/128\n",
    "\n",
    "#     x_positions_gp_um = x_positions_gp*um_pixel\n",
    "#     x_positions_gp_um_centered = x_positions_gp_um-center_shift\n",
    "    \n",
    "#     return pearson_r_vals, pearson_r_vals_rev, p_values, p_values_rev, x_positions_gp_um_centered"
   ]
  },
  {
   "cell_type": "code",
   "execution_count": null,
   "metadata": {},
   "outputs": [],
   "source": [
    "# center_pixels_gpA, center_pixels_noiseA, ls_roimaskA, noise_roimaskA = get_common_rois(ls_keyA, noise_keyA, 1)\n",
    "# center_pixels_gpB, center_pixels_noiseB, ls_roimaskB, noise_roimaskB = get_common_rois(ls_keyB, noise_keyB, 0)\n",
    "# center_pixels_gpC, center_pixels_noiseC, ls_roimaskC, noise_roimaskC = get_common_rois(ls_keyC, noise_keyC, 0)"
   ]
  },
  {
   "cell_type": "code",
   "execution_count": null,
   "metadata": {},
   "outputs": [],
   "source": [
    "# stimulus_imagesA = make_stimuli_convolution(noise_keyA)\n",
    "# stimulus_imagesB = make_stimuli_convolution(noise_keyB)\n",
    "# stimulus_imagesC = make_stimuli_convolution(noise_keyC)"
   ]
  },
  {
   "cell_type": "code",
   "execution_count": null,
   "metadata": {},
   "outputs": [],
   "source": [
    "# stim_image_indexA = 2\n",
    "# responsesA, responses_revA = get_convolutions(center_pixels_noiseA, stim_image_indexA, noise_keyA, stimulus_imagesA)\n",
    "\n",
    "# stim_image_indexB = 2\n",
    "# responsesB, responses_revB = get_convolutions(center_pixels_noiseB, stim_image_indexB, noise_keyB, stimulus_imagesB)\n",
    "\n",
    "# stim_image_indexC = 2\n",
    "# responsesC, responses_revC = get_convolutions(center_pixels_noiseC, stim_image_indexC, noise_keyC, stimulus_imagesC)"
   ]
  },
  {
   "cell_type": "code",
   "execution_count": null,
   "metadata": {},
   "outputs": [],
   "source": [
    "# index1A = 4\n",
    "# index2A = 5\n",
    "# corrsA, corrs_revA, gp_interpA, gp_interp_revA, responses_scaledA, responses_scaled_revA = do_correlations(\n",
    "#     responsesA, responses_revA, ls_keyA, center_pixels_gpA, index1A, index2A)\n",
    "\n",
    "# index1B = 4\n",
    "# index2B = 5\n",
    "# corrsB, corrs_revB, gp_interpB, gp_interp_revB, responses_scaledB, responses_scaled_revB = do_correlations(\n",
    "#     responsesB, responses_revB, ls_keyB, center_pixels_gpB, index1B, index2B)\n",
    "\n",
    "# index1C = 4\n",
    "# index2C = 5\n",
    "# corrsC, corrs_revC, gp_interpC, gp_interp_revC, responses_scaledC, responses_scaled_revC = do_correlations(\n",
    "#     responsesC, responses_revC, ls_keyC, center_pixels_gpC, index1C, index2C)"
   ]
  },
  {
   "cell_type": "code",
   "execution_count": null,
   "metadata": {},
   "outputs": [],
   "source": [
    "# center_shiftA = 30\n",
    "# pearson_r_valsA, pearson_r_vals_revA, p_valuesA, p_values_revA, x_positions_gp_um_centeredA = organize_correlations(\n",
    "#     corrsA, corrs_revA, ls_keyA, center_pixels_gpA, ls_roimaskA, center_shiftA)\n",
    "\n",
    "# center_shiftB = 85\n",
    "# pearson_r_valsB, pearson_r_vals_revB, p_valuesB, p_values_revB, x_positions_gp_um_centeredB = organize_correlations(\n",
    "#     corrsB, corrs_revB, ls_keyB, center_pixels_gpB, ls_roimaskB, center_shiftB)\n",
    "\n",
    "# center_shiftC = 40\n",
    "# pearson_r_valsC, pearson_r_vals_revC, p_valuesC, p_values_revC, x_positions_gp_um_centeredC = organize_correlations(\n",
    "#     corrsC, corrs_revC, ls_keyC, center_pixels_gpC, ls_roimaskC, center_shiftC)"
   ]
  },
  {
   "cell_type": "code",
   "execution_count": null,
   "metadata": {},
   "outputs": [],
   "source": [
    "# stimulatedA = np.where(x_positions_gp_um_centeredA>-200)[0]\n",
    "# stimulatedB = np.where(x_positions_gp_um_centeredB>-200)[0]\n",
    "# stimulatedC = np.where(x_positions_gp_um_centeredC>-200)[0]"
   ]
  },
  {
   "cell_type": "code",
   "execution_count": null,
   "metadata": {},
   "outputs": [],
   "source": [
    "# pearson_r_valsALL = np.concatenate((\n",
    "#     pearson_r_valsA[stimulatedA],\n",
    "#     pearson_r_valsB[stimulatedB],\n",
    "#     pearson_r_valsC[stimulatedC]))\n",
    "\n",
    "# pearson_r_vals_revALL = np.concatenate((\n",
    "#     pearson_r_vals_revA[stimulatedA],\n",
    "#     pearson_r_vals_revB[stimulatedB],\n",
    "#     pearson_r_vals_revC[stimulatedC]))"
   ]
  },
  {
   "cell_type": "markdown",
   "metadata": {},
   "source": [
    "# This part runs from hdf5 file"
   ]
  },
  {
   "cell_type": "code",
   "execution_count": 2,
   "metadata": {},
   "outputs": [],
   "source": [
    "#read hdf5 file for this notebook\n",
    "f1 = h5py.File(\"Data/FigS04_gh.hdf5\", \"r\")\n",
    "\n",
    "#get the data for plotting the sd image\n",
    "pearson_r_valsALL_300 = np.array(f1['pearson_r_valsALL_300'])\n",
    "pearson_r_vals_revALL_300 = np.array(f1['pearson_r_vals_revALL_300'])\n",
    "pearson_r_valsALL_100 = np.array(f1['pearson_r_valsALL_100'])\n",
    "pearson_r_vals_revALL_100 = np.array(f1['pearson_r_vals_revALL_100'])\n",
    "\n",
    "f1.close()"
   ]
  },
  {
   "cell_type": "code",
   "execution_count": 3,
   "metadata": {},
   "outputs": [
    {
     "name": "stdout",
     "output_type": "stream",
     "text": [
      "0.6445356807965558\n"
     ]
    },
    {
     "data": {
      "image/png": "[encoded data removed]",
      "text/plain": [
       "<Figure size 432x288 with 1 Axes>"
      ]
     },
     "metadata": {
      "needs_background": "light"
     },
     "output_type": "display_data"
    }
   ],
   "source": [
    "plt.hist(pearson_r_valsALL_300, bins=20, color='k')\n",
    "\n",
    "print(pearson_r_valsALL_300.mean())\n",
    "\n",
    "axes=plt.gca()\n",
    "axes.set_xlim([-1,1])\n",
    "axes.set_ylim([0,230])\n",
    "\n",
    "# Figpath = 'Fig_temp/'\n",
    "# savename = Figpath+\"Correlation_histogram_300.pdf\"\n",
    "# plt.savefig(savename, transparent=True, bbox_inches='tight')\n",
    "\n",
    "plt.show()"
   ]
  },
  {
   "cell_type": "code",
   "execution_count": 4,
   "metadata": {},
   "outputs": [
    {
     "name": "stdout",
     "output_type": "stream",
     "text": [
      "0.45041824067791\n"
     ]
    },
    {
     "data": {
      "image/png": "[encoded data removed]",
      "text/plain": [
       "<Figure size 432x288 with 1 Axes>"
      ]
     },
     "metadata": {
      "needs_background": "light"
     },
     "output_type": "display_data"
    }
   ],
   "source": [
    "\n",
    "plt.hist(pearson_r_vals_revALL_300, bins=20, color='k')\n",
    "\n",
    "print(pearson_r_vals_revALL_300.mean())\n",
    "axes=plt.gca()\n",
    "axes.set_xlim([-1,1])\n",
    "axes.set_ylim([0,230])\n",
    "\n",
    "# Figpath = 'Fig_temp/'\n",
    "# savename = Figpath+\"Correlation_histogram_300_rev.pdf\"\n",
    "# plt.savefig(savename, transparent=True, bbox_inches='tight')\n",
    "\n",
    "plt.show()"
   ]
  },
  {
   "cell_type": "code",
   "execution_count": 5,
   "metadata": {},
   "outputs": [
    {
     "name": "stdout",
     "output_type": "stream",
     "text": [
      "0.5377066434811781\n"
     ]
    },
    {
     "data": {
      "image/png": "[encoded data removed]",
      "text/plain": [
       "<Figure size 432x288 with 1 Axes>"
      ]
     },
     "metadata": {
      "needs_background": "light"
     },
     "output_type": "display_data"
    }
   ],
   "source": [
    "plt.hist(pearson_r_valsALL_100, bins=20, color='k')\n",
    "\n",
    "print(pearson_r_valsALL_100.mean())\n",
    "axes=plt.gca()\n",
    "axes.set_xlim([-1,1])\n",
    "axes.set_ylim([0,130])\n",
    "\n",
    "# Figpath = 'Fig_temp/'\n",
    "# savename = Figpath+\"Correlation_histogram_100.pdf\"\n",
    "# plt.savefig(savename, transparent=True, bbox_inches='tight')\n",
    "\n",
    "plt.show()"
   ]
  },
  {
   "cell_type": "code",
   "execution_count": 6,
   "metadata": {},
   "outputs": [
    {
     "name": "stdout",
     "output_type": "stream",
     "text": [
      "0.39568309702785\n"
     ]
    },
    {
     "data": {
      "image/png": "[encoded data removed]",
      "text/plain": [
       "<Figure size 432x288 with 1 Axes>"
      ]
     },
     "metadata": {
      "needs_background": "light"
     },
     "output_type": "display_data"
    }
   ],
   "source": [
    "plt.hist(pearson_r_vals_revALL_100, bins=20, color='k')\n",
    "\n",
    "print(pearson_r_vals_revALL_100.mean())\n",
    "axes=plt.gca()\n",
    "axes.set_xlim([-1,1])\n",
    "axes.set_ylim([0,130])\n",
    "\n",
    "# Figpath = 'Fig_temp/'\n",
    "# savename = Figpath+\"Correlation_histogram_100_rev.pdf\"\n",
    "# plt.savefig(savename, transparent=True, bbox_inches='tight')\n",
    "\n",
    "plt.show()"
   ]
  },
  {
   "cell_type": "code",
   "execution_count": null,
   "metadata": {},
   "outputs": [],
   "source": [
    "# plt.hist(pearson_r_valsA[stimulatedA])\n",
    "# print(pearson_r_valsA[stimulatedA].mean())\n",
    "# plt.show()"
   ]
  },
  {
   "cell_type": "code",
   "execution_count": null,
   "metadata": {},
   "outputs": [],
   "source": [
    "# plt.hist(pearson_r_valsB[stimulatedB])\n",
    "# print(pearson_r_valsB[stimulatedB].mean())\n",
    "# plt.show()"
   ]
  },
  {
   "cell_type": "code",
   "execution_count": null,
   "metadata": {},
   "outputs": [],
   "source": [
    "# plt.hist(pearson_r_valsC[stimulatedC])\n",
    "# print(pearson_r_valsC[stimulatedC].mean())\n",
    "# plt.show()"
   ]
  },
  {
   "cell_type": "markdown",
   "metadata": {},
   "source": [
    "# shuffling\n",
    "\n",
    "#concatenate all of the responses and the center pixels and ls keys, then do bootstrap. Bootstrap results are included as numpy files so figures can be recreated."
   ]
  },
  {
   "cell_type": "code",
   "execution_count": null,
   "metadata": {},
   "outputs": [],
   "source": [
    "# #concatenate all the responses\n",
    "# responses_scaled_ALL = responses_scaledA + responses_scaledB + responses_scaledC\n",
    "# gp_interpALL = gp_interpA + gp_interpB + gp_interpC\n",
    "# stimulatedALL = np.where(np.concatenate((x_positions_gp_um_centeredA, x_positions_gp_um_centeredB, x_positions_gp_um_centeredC))>0)\n",
    "\n",
    "# #only shuffle the stimulated areas\n",
    "# responses_scaled_ALL_stimulated = np.array(responses_scaled_ALL)[stimulatedALL]\n",
    "# gp_interpALL_stimulated = np.array(gp_interpALL)[stimulatedALL]\n",
    "# gp_interpALL_stimulated_shuffled = np.copy(gp_interpALL_stimulated)\n",
    "\n",
    "# iterations = 1000\n",
    "# bootstrap_distribution = np.zeros(iterations)\n",
    "\n",
    "# for i in range(iterations):\n",
    "    \n",
    "#     np.random.shuffle(gp_interpALL_stimulated_shuffled)\n",
    "#     corrs_shuffled = np.zeros(responses_scaled_ALL_stimulated.shape[0])\n",
    "#     for j, response in enumerate(responses_scaled_ALL_stimulated):\n",
    "#         interp_gp = gp_interpALL_stimulated_shuffled[j]\n",
    "\n",
    "#         gp_noise_corr = scipy.stats.pearsonr(list(interp_gp), list(response))\n",
    "#         corrs_shuffled[j] = gp_noise_corr[0]\n",
    "    \n",
    "#     bootstrap_distribution[i] = np.mean(corrs_shuffled)"
   ]
  },
  {
   "cell_type": "code",
   "execution_count": 7,
   "metadata": {},
   "outputs": [],
   "source": [
    "bootstrap_distribution_300 = np.load('Data/bootstrap_distribution_300_out.npy')"
   ]
  },
  {
   "cell_type": "code",
   "execution_count": 8,
   "metadata": {},
   "outputs": [
    {
     "data": {
      "image/png": "[encoded data removed]",
      "text/plain": [
       "<Figure size 432x288 with 1 Axes>"
      ]
     },
     "metadata": {
      "needs_background": "light"
     },
     "output_type": "display_data"
    }
   ],
   "source": [
    "plt.hist(bootstrap_distribution_300, bins=50)\n",
    "axes = plt.gca()\n",
    "axes.axvline(pearson_r_valsALL_300.mean(), color='r')\n",
    "\n",
    "axes = plt.gca()\n",
    "# axes.set_xlim([0.35, 0.55])\n",
    "plt.show()"
   ]
  },
  {
   "cell_type": "code",
   "execution_count": 9,
   "metadata": {},
   "outputs": [
    {
     "data": {
      "text/plain": [
       "array([0.57688013, 0.59048263])"
      ]
     },
     "execution_count": 9,
     "metadata": {},
     "output_type": "execute_result"
    }
   ],
   "source": [
    "np.quantile(bootstrap_distribution_300, [0.05, 0.95])"
   ]
  },
  {
   "cell_type": "code",
   "execution_count": 10,
   "metadata": {},
   "outputs": [],
   "source": [
    "# np.save('bootstrap_distribution_300_out.npy', bootstrap_distribution)"
   ]
  },
  {
   "cell_type": "raw",
   "metadata": {},
   "source": [
    "#concatenate all the responses, 100 inward\n",
    "responses_scaled_revALL = responses_scaled_revA + responses_scaled_revB + responses_scaled_revC\n",
    "gp_interp_revALL = gp_interp_revA + gp_interp_revB + gp_interp_revC\n",
    "stimulatedALL = np.where(np.concatenate((x_positions_gp_um_centeredA, x_positions_gp_um_centeredB, x_positions_gp_um_centeredC))>0)\n",
    "\n",
    "#only shuffle the stimulated areas\n",
    "responses_scaled_revALL_stimulated = np.array(responses_scaled_revALL)[stimulatedALL]\n",
    "gp_interp_revALL_stimulated = np.array(gp_interp_revALL)[stimulatedALL]\n",
    "gp_interp_revALL_stimulated_shuffled = np.copy(gp_interp_revALL_stimulated)\n",
    "\n",
    "iterations = 1000\n",
    "bootstrap_distribution_rev = np.zeros(iterations)\n",
    "\n",
    "for i in range(iterations):\n",
    "    \n",
    "    np.random.shuffle(gp_interp_revALL_stimulated_shuffled)\n",
    "    corrs_shuffled_rev = np.zeros(responses_scaled_revALL_stimulated.shape[0])\n",
    "    for j, response in enumerate(responses_scaled_revALL_stimulated):\n",
    "        interp_gp = gp_interp_revALL_stimulated_shuffled[j]\n",
    "\n",
    "        gp_noise_corr = scipy.stats.pearsonr(list(interp_gp), list(response))\n",
    "        corrs_shuffled_rev[j] = gp_noise_corr[0]\n",
    "    \n",
    "    bootstrap_distribution_rev[i] = np.mean(corrs_shuffled_rev)"
   ]
  },
  {
   "cell_type": "code",
   "execution_count": 11,
   "metadata": {},
   "outputs": [],
   "source": [
    "bootstrap_distribution_rev_300 = np.load('Data/bootstrap_distribution_300_in.npy')"
   ]
  },
  {
   "cell_type": "code",
   "execution_count": 12,
   "metadata": {},
   "outputs": [
    {
     "data": {
      "image/png": "[encoded data removed]",
      "text/plain": [
       "<Figure size 432x288 with 1 Axes>"
      ]
     },
     "metadata": {
      "needs_background": "light"
     },
     "output_type": "display_data"
    }
   ],
   "source": [
    "plt.hist(bootstrap_distribution_rev_300, bins=50, color = 'k')\n",
    "\n",
    "axes = plt.gca()\n",
    "# axes.set_xlim([0.35, 0.60])\n",
    "\n",
    "axes.axvline(pearson_r_vals_revALL_300.mean(), color='r')\n",
    "\n",
    "# Figpath = 'Fig_temp/'\n",
    "# savename = Figpath+\"Shuffled_mean_distribution_100.pdf\"\n",
    "# plt.savefig(savename, transparent=True, bbox_inches='tight')\n",
    "\n",
    "\n",
    "plt.show()"
   ]
  },
  {
   "cell_type": "code",
   "execution_count": 13,
   "metadata": {},
   "outputs": [],
   "source": [
    "# np.save('bootstrap_distribution_300_in.npy', bootstrap_distribution_rev)"
   ]
  },
  {
   "cell_type": "code",
   "execution_count": 14,
   "metadata": {},
   "outputs": [],
   "source": [
    "bootstrap_distribution_100 = np.load('Data/bootstrap_distribution_100_out.npy')"
   ]
  },
  {
   "cell_type": "code",
   "execution_count": 15,
   "metadata": {},
   "outputs": [
    {
     "data": {
      "image/png": "[encoded data removed]",
      "text/plain": [
       "<Figure size 432x288 with 1 Axes>"
      ]
     },
     "metadata": {
      "needs_background": "light"
     },
     "output_type": "display_data"
    }
   ],
   "source": [
    "plt.hist(bootstrap_distribution_100, bins=50, color = 'k')\n",
    "\n",
    "axes = plt.gca()\n",
    "# axes.set_xlim([0.35, 0.60])\n",
    "\n",
    "axes.axvline(pearson_r_valsALL_100.mean(), color='r')\n",
    "\n",
    "# Figpath = 'Fig_temp/'\n",
    "# savename = Figpath+\"Shuffled_mean_distribution_100.pdf\"\n",
    "# plt.savefig(savename, transparent=True, bbox_inches='tight')\n",
    "# this is the distribution shown in the paper\n",
    "\n",
    "plt.show()"
   ]
  },
  {
   "cell_type": "code",
   "execution_count": 16,
   "metadata": {},
   "outputs": [],
   "source": [
    "bootstrap_distribution_rev_100 = np.load('Data/bootstrap_distribution_100_in.npy')"
   ]
  },
  {
   "cell_type": "code",
   "execution_count": 17,
   "metadata": {},
   "outputs": [
    {
     "data": {
      "image/png": "[encoded data removed]",
      "text/plain": [
       "<Figure size 432x288 with 1 Axes>"
      ]
     },
     "metadata": {
      "needs_background": "light"
     },
     "output_type": "display_data"
    }
   ],
   "source": [
    "plt.hist(bootstrap_distribution_rev_100, bins=50, color = 'k')\n",
    "\n",
    "axes = plt.gca()\n",
    "# axes.set_xlim([0.35, 0.60])\n",
    "\n",
    "axes.axvline(pearson_r_vals_revALL_100.mean(), color='r')\n",
    "\n",
    "# Figpath = 'Fig_temp/'\n",
    "# savename = Figpath+\"Shuffled_mean_distribution_100.pdf\"\n",
    "# plt.savefig(savename, transparent=True, bbox_inches='tight')\n",
    "\n",
    "\n",
    "plt.show()"
   ]
  }
 ],
 "metadata": {
  "kernelspec": {
   "display_name": "Python 3",
   "language": "python",
   "name": "python3"
  },
  "language_info": {
   "codemirror_mode": {
    "name": "ipython",
    "version": 3
   },
   "file_extension": ".py",
   "mimetype": "text/x-python",
   "name": "python",
   "nbconvert_exporter": "python",
   "pygments_lexer": "ipython3",
   "version": "3.6.8"
  }
 },
 "nbformat": 4,
 "nbformat_minor": 2
}
