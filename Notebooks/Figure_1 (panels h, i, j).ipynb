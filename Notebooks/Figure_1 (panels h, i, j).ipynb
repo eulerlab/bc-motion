{
 "cells": [
  {
   "cell_type": "code",
   "execution_count": 1,
   "metadata": {},
   "outputs": [],
   "source": [
    "#% matplotlib inline\n",
    "\n",
    "from datetime import datetime \n",
    "import h5py\n",
    "import matplotlib.pyplot as plt \n",
    "import numpy as np\n",
    "import os\n",
    "import pandas as pd\n",
    "import seaborn as sns\n",
    "import time\n",
    "import matplotlib.cm as cm\n",
    "from matplotlib import colors\n",
    "from matplotlib.colors import LinearSegmentedColormap\n",
    "cmap = cm.get_cmap('Blues')\n",
    "import random\n",
    "from numpy.linalg import lstsq\n",
    "from pandas.plotting import parallel_coordinates\n",
    "\n",
    "import matplotlib as mpl\n",
    "mpl.rcParams[\"image.interpolation\"] = 'none'"
   ]
  },
  {
   "cell_type": "code",
   "execution_count": 2,
   "metadata": {
    "code_folding": []
   },
   "outputs": [],
   "source": [
    "def get_coordinates(roimask, pixel_list):\n",
    "#     pixel_list = data_df.index.to_frame(index=False)['roi_ids'].unique()\n",
    "    coordinates = np.zeros((pixel_list.shape[0], 3))\n",
    "    for index, pixel in enumerate(pixel_list):\n",
    "        idx = np.where(roimask==pixel*-1)\n",
    "        coordinates[index, 1:] = np.array([idx[0][0], idx[1][0]])\n",
    "        coordinates[index, 0] = pixel\n",
    "    return coordinates"
   ]
  },
  {
   "cell_type": "code",
   "execution_count": 3,
   "metadata": {
    "code_folding": []
   },
   "outputs": [],
   "source": [
    "def get_field_center(dsi_results, roimask, onset_threshold, field_x_threshold):\n",
    "    roi_list = dsi_results.index.to_frame(index=False)['pixel_id'].unique()\n",
    "    dsmap0 = roimask*(-1)\n",
    "    xlength = dsmap0.shape[0]\n",
    "    ylength = dsmap0.shape[1]\n",
    "\n",
    "    x_vs_onset = np.zeros((len(roi_list),2))\n",
    "    i = 0\n",
    "    for x in range(xlength):\n",
    "        for y in range(ylength): \n",
    "            if dsmap0[x,y] in roi_list:\n",
    "                roi_index = int(dsmap0[x, y])\n",
    "                dsmap0[x,y] = dsi_results.loc[roi_index, 'mu_max_index'][3]\n",
    "                if x<field_x_threshold:\n",
    "                    x_vs_onset[i,:] = [x,  dsi_results.loc[roi_index, 'mu_max_index'][3]]\n",
    "                else:\n",
    "                    dsmap0[x,y] = np.nan\n",
    "                    x_vs_onset[i,:] = [np.nan, np.nan]\n",
    "                i+=1\n",
    "            else:\n",
    "                dsmap0[x,y] = np.nan\n",
    "\n",
    "    x_vs_onset = x_vs_onset[x_vs_onset[:,0].argsort()]\n",
    "    # x0 = np.median(np.where(dsmap0 == np.nanmin(x_vs_onset[x_vs_onset[:,1].argsort()], axis=0)[1])[0])\n",
    "    x0 = np.mean(np.where(dsmap0[0:65,:] < onset_threshold)[0])\n",
    "    print(x0, np.where(dsmap0[0:65,:] < onset_threshold)[0].shape)\n",
    "    return x0"
   ]
  },
  {
   "cell_type": "code",
   "execution_count": 4,
   "metadata": {
    "code_folding": []
   },
   "outputs": [],
   "source": [
    "def get_center_results(dsi_results, roimask, onset_threshold, field_x_threshold, box_width):\n",
    "    pixel_list = dsi_results.index.to_frame(index=False)['pixel_id'].unique()\n",
    "    coordinates = get_coordinates(roimask, pixel_list)\n",
    "    x = get_field_center(dsi_results, roimask, onset_threshold, field_x_threshold)\n",
    "    box_bottom = x-box_width\n",
    "    box_top = x+box_width\n",
    "    center_rois = coordinates[np.where((box_bottom <= coordinates[:,1]) & (coordinates[:,1] <= box_top)), 0][0]\n",
    "    center_result = dsi_results.loc[center_rois]\n",
    "    return center_result"
   ]
  },
  {
   "cell_type": "code",
   "execution_count": 5,
   "metadata": {
    "code_folding": []
   },
   "outputs": [],
   "source": [
    "def manual_center_results(dsi_results, roimask, center_loc, box_width):\n",
    "    pixel_list = dsi_results.index.to_frame(index=False)['pixel_id'].unique()\n",
    "    coordinates = get_coordinates(roimask, pixel_list)\n",
    "    x = center_loc\n",
    "    box_bottom = x-box_width\n",
    "    box_top = x+box_width\n",
    "    center_rois = coordinates[np.where((box_bottom <= coordinates[:,1]) & (coordinates[:,1] <= box_top)), 0][0]\n",
    "    center_result = dsi_results.loc[center_rois]\n",
    "    return center_result"
   ]
  },
  {
   "cell_type": "code",
   "execution_count": 6,
   "metadata": {},
   "outputs": [],
   "source": [
    "#pull this data from the hdf5 file\n",
    "dsi_results1 = pd.read_hdf('Data/Fig1_hij.hdf5', 'dsi_results1')\n",
    "dsi_results2 = pd.read_hdf('Data/Fig1_hij.hdf5', 'dsi_results2')\n",
    "dsi_results3 = pd.read_hdf('Data/Fig1_hij.hdf5', 'dsi_results3')\n",
    "dsi_results4 = pd.read_hdf('Data/Fig1_hij.hdf5', 'dsi_results4')\n",
    "dsi_results5 = pd.read_hdf('Data/Fig1_hij.hdf5', 'dsi_results5')\n",
    "dsi_results6 = pd.read_hdf('Data/Fig1_hij.hdf5', 'dsi_results6')\n",
    "dsi_results7 = pd.read_hdf('Data/Fig1_hij.hdf5', 'dsi_results7')\n"
   ]
  },
  {
   "cell_type": "code",
   "execution_count": 7,
   "metadata": {},
   "outputs": [
    {
     "name": "stderr",
     "output_type": "stream",
     "text": [
      "C:\\Users\\alv5645\\AppData\\Local\\Temp/ipykernel_8460/1103169833.py:7: DeprecationWarning: `product` is deprecated as of NumPy 1.25.0, and will be removed in NumPy 2.0. Please use `prod` instead.\n",
      "  roimask1 = np.array(f1['roimask1'])\n",
      "C:\\Users\\alv5645\\AppData\\Local\\Temp/ipykernel_8460/1103169833.py:8: DeprecationWarning: `product` is deprecated as of NumPy 1.25.0, and will be removed in NumPy 2.0. Please use `prod` instead.\n",
      "  roimask2 = np.array(f1['roimask2'])\n",
      "C:\\Users\\alv5645\\AppData\\Local\\Temp/ipykernel_8460/1103169833.py:9: DeprecationWarning: `product` is deprecated as of NumPy 1.25.0, and will be removed in NumPy 2.0. Please use `prod` instead.\n",
      "  roimask3 = np.array(f1['roimask3'])\n",
      "C:\\Users\\alv5645\\AppData\\Local\\Temp/ipykernel_8460/1103169833.py:10: DeprecationWarning: `product` is deprecated as of NumPy 1.25.0, and will be removed in NumPy 2.0. Please use `prod` instead.\n",
      "  roimask4 = np.array(f1['roimask4'])\n",
      "C:\\Users\\alv5645\\AppData\\Local\\Temp/ipykernel_8460/1103169833.py:11: DeprecationWarning: `product` is deprecated as of NumPy 1.25.0, and will be removed in NumPy 2.0. Please use `prod` instead.\n",
      "  roimask5 = np.array(f1['roimask5'])\n",
      "C:\\Users\\alv5645\\AppData\\Local\\Temp/ipykernel_8460/1103169833.py:12: DeprecationWarning: `product` is deprecated as of NumPy 1.25.0, and will be removed in NumPy 2.0. Please use `prod` instead.\n",
      "  roimask6 = np.array(f1['roimask6'])\n",
      "C:\\Users\\alv5645\\AppData\\Local\\Temp/ipykernel_8460/1103169833.py:13: DeprecationWarning: `product` is deprecated as of NumPy 1.25.0, and will be removed in NumPy 2.0. Please use `prod` instead.\n",
      "  roimask7 = np.array(f1['roimask7'])\n"
     ]
    }
   ],
   "source": [
    "#pull this data from the hdf5 file\n",
    "\n",
    "#read hdf5 file for this notebook\n",
    "f1 = h5py.File(\"Data/Fig1_hij.hdf5\", \"r\")\n",
    "\n",
    "#get the data for plotting the sd image\n",
    "roimask1 = np.array(f1['roimask1'])\n",
    "roimask2 = np.array(f1['roimask2'])\n",
    "roimask3 = np.array(f1['roimask3'])\n",
    "roimask4 = np.array(f1['roimask4'])\n",
    "roimask5 = np.array(f1['roimask5'])\n",
    "roimask6 = np.array(f1['roimask6'])\n",
    "roimask7 = np.array(f1['roimask7'])\n",
    "\n",
    "f1.close()"
   ]
  },
  {
   "cell_type": "code",
   "execution_count": 8,
   "metadata": {
    "scrolled": false
   },
   "outputs": [
    {
     "name": "stdout",
     "output_type": "stream",
     "text": [
      "24.704225352112676 (71,)\n"
     ]
    }
   ],
   "source": [
    "#for this field I don't have noise information so I am predicting from onset time\n",
    "onset_threshold = 52\n",
    "field_x_threshold = 65\n",
    "box_width = 12 #this equals ~10 um on either side.\n",
    "\n",
    "center_results1 = get_center_results(dsi_results1, roimask1, onset_threshold, field_x_threshold, box_width)\n"
   ]
  },
  {
   "cell_type": "code",
   "execution_count": 9,
   "metadata": {},
   "outputs": [],
   "source": [
    "# for cells where I have noise data, manually set the center to the location predicted from noise\n",
    "center_loc1 = 25\n",
    "\n",
    "center_loc2 = 40\n",
    "center_results2 = manual_center_results(dsi_results2, roimask2, center_loc2, box_width)\n",
    "\n",
    "center_loc3 = 85\n",
    "center_results3 = manual_center_results(dsi_results3, roimask3, center_loc3, box_width)\n",
    "\n",
    "center_loc4 = 30\n",
    "center_results4 = manual_center_results(dsi_results4, roimask4, center_loc4, box_width)\n",
    "\n",
    "center_loc5 = 30\n",
    "center_results5 = manual_center_results(dsi_results5, roimask5, center_loc5, box_width)\n",
    "\n",
    "center_loc6 = 20 # a manual guess. Estimation isn't working great here, but I'm in the ballpark\n",
    "center_results6 = manual_center_results(dsi_results6, roimask6, center_loc6, box_width)\n",
    "\n",
    "center_loc7 = 0\n",
    "center_results7 = manual_center_results(dsi_results7, roimask7, center_loc7, box_width)\n",
    "\n"
   ]
  },
  {
   "cell_type": "code",
   "execution_count": 10,
   "metadata": {
    "scrolled": false
   },
   "outputs": [],
   "source": [
    "center_results1['field_num'] = 1\n",
    "center_results2['field_num'] = 2\n",
    "center_results3['field_num'] = 3\n",
    "center_results4['field_num'] = 4\n",
    "center_results5['field_num'] = 5\n",
    "center_results6['field_num'] = 6\n",
    "center_results7['field_num'] = 7\n",
    "\n",
    "summary_df = center_results1\n",
    "summary_df = pd.concat([summary_df, center_results2])\n",
    "summary_df = pd.concat([summary_df, center_results3])\n",
    "summary_df = pd.concat([summary_df, center_results4])\n",
    "summary_df = pd.concat([summary_df, center_results5])\n",
    "summary_df = pd.concat([summary_df, center_results6])\n",
    "summary_df = pd.concat([summary_df, center_results7])"
   ]
  },
  {
   "cell_type": "code",
   "execution_count": 11,
   "metadata": {},
   "outputs": [
    {
     "data": {
      "image/png": "[encoded data removed]",
      "text/plain": [
       "<Figure size 432x288 with 1 Axes>"
      ]
     },
     "metadata": {
      "needs_background": "light"
     },
     "output_type": "display_data"
    }
   ],
   "source": [
    "n_bins = 100\n",
    "plt.hist(summary_df['dsi_100']*-1, n_bins, histtype='step', cumulative=True, label='O vs T', color='darkgrey') # density=True, \n",
    "plt.hist(summary_df['dsi_150']*-1, n_bins, histtype='step', cumulative=True, label='R vs L', color='grey') # density=True, \n",
    "\n",
    "axes=plt.gca()\n",
    "axes.axvline()\n",
    "axes.set_xlim([-100, 250])\n",
    "plt.legend()\n",
    "\n",
    "plt.show()"
   ]
  },
  {
   "cell_type": "code",
   "execution_count": 12,
   "metadata": {},
   "outputs": [
    {
     "data": {
      "text/plain": [
       "dsi_100    41.016038\n",
       "dsi_150    -2.407979\n",
       "dtype: float64"
      ]
     },
     "execution_count": 12,
     "metadata": {},
     "output_type": "execute_result"
    }
   ],
   "source": [
    "summary_df[['dsi_100', 'dsi_150']].mean()*-1"
   ]
  },
  {
   "cell_type": "code",
   "execution_count": 13,
   "metadata": {},
   "outputs": [
    {
     "data": {
      "image/png": "[encoded data removed]",
      "text/plain": [
       "<Figure size 288x288 with 1 Axes>"
      ]
     },
     "metadata": {
      "needs_background": "light"
     },
     "output_type": "display_data"
    }
   ],
   "source": [
    "toplot = summary_df.reset_index()*-1\n",
    "\n",
    "plt.figure(figsize = (4,4))\n",
    "\n",
    "axes = plt.gca()\n",
    "\n",
    "ax = plt.subplot(1,1,1)\n",
    "parallel_coordinates(toplot, 'pixel_id', cols=['dsi_100', 'dsi_150'], color = 'black', linewidth=0.1, alpha=0.1)#colormap='Greys',linestyle='dotted', marker = '.',\n",
    "\n",
    "plt.plot(summary_df[['dsi_100', 'dsi_150']].mean()*-1, color='k', linewidth=3, marker='o')\n",
    "plt.plot(summary_df[['dsi_100', 'dsi_150']].mean()*-1+summary_df[['dsi_100', 'dsi_150']].std(),  color='k', linestyle='', marker='_')\n",
    "plt.plot(summary_df[['dsi_100', 'dsi_150']].mean()*-1-summary_df[['dsi_100', 'dsi_150']].std(),  color='k', linestyle='', marker='_')\n",
    "\n",
    "\n",
    "ax.legend().remove()\n",
    "ax.grid(False)\n",
    "ax.axhline(color='k', linestyle='dotted')\n",
    "axes.set_xlim([-0.15,1.15])\n",
    "\n",
    "plt.show()"
   ]
  },
  {
   "cell_type": "code",
   "execution_count": 14,
   "metadata": {},
   "outputs": [],
   "source": [
    "def add_coordinates(dsi_results, roimask, center_loc):\n",
    "    \n",
    "    pixel_list = dsi_results.index.to_frame(index=False)['pixel_id'].unique()\n",
    "    coordinates = get_coordinates(roimask, pixel_list)\n",
    "    dsi_results['x_coordinate'] = coordinates[:,1]\n",
    "    dsi_results['x_centered'] = dsi_results['x_coordinate'] - center_loc\n",
    "    \n",
    "    return dsi_results"
   ]
  },
  {
   "cell_type": "code",
   "execution_count": 15,
   "metadata": {
    "scrolled": true
   },
   "outputs": [],
   "source": [
    "dsi_results1 = add_coordinates(dsi_results1, roimask1, center_loc1)\n",
    "dsi_results2 = add_coordinates(dsi_results2, roimask2, center_loc2)\n",
    "dsi_results3 = add_coordinates(dsi_results3, roimask3, center_loc3)\n",
    "dsi_results4 = add_coordinates(dsi_results4, roimask4, center_loc4)\n",
    "dsi_results5 = add_coordinates(dsi_results5, roimask5, center_loc5)\n",
    "dsi_results6 = add_coordinates(dsi_results6, roimask6, center_loc6)\n",
    "dsi_results7 = add_coordinates(dsi_results7, roimask7, center_loc7)\n",
    "\n",
    "dsi_results1['field_num'] = 1\n",
    "dsi_results2['field_num'] = 2\n",
    "dsi_results3['field_num'] = 3\n",
    "dsi_results4['field_num'] = 4\n",
    "dsi_results5['field_num'] = 5\n",
    "dsi_results6['field_num'] = 6\n",
    "dsi_results7['field_num'] = 7\n",
    "\n",
    "sum_df = dsi_results1\n",
    "sum_df = pd.concat([sum_df, dsi_results2])\n",
    "# sum_df = dsi_results2\n",
    "sum_df = pd.concat([sum_df, dsi_results3])\n",
    "sum_df = pd.concat([sum_df, dsi_results4])\n",
    "sum_df = pd.concat([sum_df, dsi_results5])\n",
    "sum_df = pd.concat([sum_df, dsi_results6])\n",
    "sum_df = pd.concat([sum_df, dsi_results7])"
   ]
  },
  {
   "cell_type": "code",
   "execution_count": 16,
   "metadata": {},
   "outputs": [],
   "source": [
    "var_before = np.array(sum_df['x_centered'])\n",
    "var = np.where(var_before>50, 100-var_before, var_before)\n",
    "sum_df['x_centered_var'] = var\n",
    "dsi_before = np.array(sum_df['dsi_100'])\n",
    "dsi_var = np.where(var_before>50, dsi_before*-1, dsi_before)\n",
    "sum_df['dsi_100_var'] = dsi_var\n",
    "\n",
    "dsi_before = np.array(sum_df['dsi_150'])\n",
    "dsi_var = np.where(var_before>50, dsi_before*-1, dsi_before)\n",
    "sum_df['dsi_150_var'] = dsi_var\n",
    "\n",
    "dsi_before = np.array(sum_df['dsi_300'])\n",
    "dsi_var = np.where(var_before>50, dsi_before*-1, dsi_before)\n",
    "sum_df['dsi_300_var'] = dsi_var"
   ]
  },
  {
   "cell_type": "code",
   "execution_count": 17,
   "metadata": {},
   "outputs": [],
   "source": [
    "resamp_p = 3\n",
    "sum_df = sum_df.reset_index()\n",
    "sum_df['x_binned'] = sum_df['x_centered'].apply(\n",
    "            lambda x_t: resamp_p * (round(x_t / resamp_p)))\n",
    "sum_df = sum_df.set_index('x_binned')\n",
    "\n",
    "sum_df_avgs = sum_df.groupby(['x_binned']).mean()\n",
    "sum_df_stds =  sum_df.groupby(['x_binned']).std()\n",
    "sum_df_stds['top_100']=sum_df_stds['dsi_100']+sum_df_avgs['dsi_100']\n",
    "sum_df_stds['bottom_100']=sum_df_avgs['dsi_100']-sum_df_stds['dsi_100']\n",
    "sum_df_stds['top_150']=sum_df_stds['dsi_150']+sum_df_avgs['dsi_150']\n",
    "sum_df_stds['bottom_150']=sum_df_avgs['dsi_150']-sum_df_stds['dsi_150']\n",
    "sum_df_stds['top_300']=sum_df_stds['dsi_300']+sum_df_avgs['dsi_300']\n",
    "sum_df_stds['bottom_300']=sum_df_avgs['dsi_300']-sum_df_stds['dsi_300']"
   ]
  },
  {
   "cell_type": "code",
   "execution_count": 18,
   "metadata": {},
   "outputs": [
    {
     "data": {
      "image/png": "[encoded data removed]",
      "text/plain": [
       "<Figure size 720x288 with 2 Axes>"
      ]
     },
     "metadata": {
      "needs_background": "light"
     },
     "output_type": "display_data"
    }
   ],
   "source": [
    "#plot the d' as a function of ROI location\n",
    "\n",
    "fig = plt.figure(figsize=(10, 4))\n",
    "\n",
    "xbottom = -90\n",
    "xtop = 120\n",
    "\n",
    "ax0 = fig.add_subplot(1,3,1)\n",
    "plt.plot(sum_df_avgs['dsi_100'], label='100', color = 'k')\n",
    "xvals = sum_df_stds.index.to_frame(index=False)['x_binned']\n",
    "plt.fill_between(xvals, sum_df_stds['top_100'], sum_df_stds['bottom_100'], alpha=0.2, color='k')\n",
    "plt.axvline(x=0, color='k', linestyle='dotted')\n",
    "plt.axhline(y=0, color='k', linestyle='dotted')\n",
    "plt.legend()\n",
    "axes = plt.gca()\n",
    "axes.set_ylim([125,-125])\n",
    "axes.set_xlim([xbottom, xtop])\n",
    "axes.set_yticklabels([])\n",
    "axes.set_xticklabels([])\n",
    "\n",
    "ax1 = fig.add_subplot(1,3,2)\n",
    "plt.plot(sum_df_avgs['dsi_150'], label='150', color = 'k')\n",
    "plt.fill_between(xvals, sum_df_stds['top_150'], sum_df_stds['bottom_150'], alpha=0.2, color='k')\n",
    "plt.axvline(x=0, color='k', linestyle='dotted')\n",
    "plt.axhline(y=0, color='k', linestyle='dotted')\n",
    "plt.legend()\n",
    "axes = plt.gca()\n",
    "axes.set_ylim([125,-125])\n",
    "axes.set_xlim([xbottom, xtop])\n",
    "axes.set_yticklabels([])\n",
    "axes.set_xticklabels([])\n",
    "\n",
    "plt.show()"
   ]
  },
  {
   "cell_type": "markdown",
   "metadata": {},
   "source": [
    "# Statistics"
   ]
  },
  {
   "cell_type": "code",
   "execution_count": 19,
   "metadata": {},
   "outputs": [],
   "source": [
    "summary_df = summary_df.reset_index()\n",
    "cols = ['field_num', 'pixel_id']\n",
    "summary_df['field_pixel'] = summary_df[cols].apply(lambda row: '_'.join(row.values.astype(str)), axis=1)\n",
    "\n",
    "just_dprimes = summary_df[['field_pixel','dsi_100','dsi_150','dsi_300']]\n",
    "\n",
    "stats_df = just_dprimes.melt(id_vars=\"field_pixel\")"
   ]
  },
  {
   "cell_type": "code",
   "execution_count": 20,
   "metadata": {},
   "outputs": [
    {
     "data": {
      "text/html": [
       "<div>\n",
       "<style scoped>\n",
       "    .dataframe tbody tr th:only-of-type {\n",
       "        vertical-align: middle;\n",
       "    }\n",
       "\n",
       "    .dataframe tbody tr th {\n",
       "        vertical-align: top;\n",
       "    }\n",
       "\n",
       "    .dataframe thead th {\n",
       "        text-align: right;\n",
       "    }\n",
       "</style>\n",
       "<table border=\"1\" class=\"dataframe\">\n",
       "  <thead>\n",
       "    <tr style=\"text-align: right;\">\n",
       "      <th></th>\n",
       "      <th>Source</th>\n",
       "      <th>SS</th>\n",
       "      <th>DF</th>\n",
       "      <th>MS</th>\n",
       "      <th>F</th>\n",
       "      <th>p-unc</th>\n",
       "      <th>p-GG-corr</th>\n",
       "      <th>ng2</th>\n",
       "      <th>eps</th>\n",
       "      <th>sphericity</th>\n",
       "      <th>W-spher</th>\n",
       "      <th>p-spher</th>\n",
       "    </tr>\n",
       "  </thead>\n",
       "  <tbody>\n",
       "    <tr>\n",
       "      <th>0</th>\n",
       "      <td>variable</td>\n",
       "      <td>6.988955e+05</td>\n",
       "      <td>2</td>\n",
       "      <td>349447.729002</td>\n",
       "      <td>216.472499</td>\n",
       "      <td>1.043742e-81</td>\n",
       "      <td>3.796409e-60</td>\n",
       "      <td>0.194153</td>\n",
       "      <td>0.725494</td>\n",
       "      <td>False</td>\n",
       "      <td>0.621629</td>\n",
       "      <td>1.079301e-66</td>\n",
       "    </tr>\n",
       "    <tr>\n",
       "      <th>1</th>\n",
       "      <td>Error</td>\n",
       "      <td>2.066281e+06</td>\n",
       "      <td>1280</td>\n",
       "      <td>1614.282327</td>\n",
       "      <td>NaN</td>\n",
       "      <td>NaN</td>\n",
       "      <td>NaN</td>\n",
       "      <td>NaN</td>\n",
       "      <td>NaN</td>\n",
       "      <td>NaN</td>\n",
       "      <td>NaN</td>\n",
       "      <td>NaN</td>\n",
       "    </tr>\n",
       "  </tbody>\n",
       "</table>\n",
       "</div>"
      ],
      "text/plain": [
       "     Source            SS    DF             MS           F         p-unc  \\\n",
       "0  variable  6.988955e+05     2  349447.729002  216.472499  1.043742e-81   \n",
       "1     Error  2.066281e+06  1280    1614.282327         NaN           NaN   \n",
       "\n",
       "      p-GG-corr       ng2       eps sphericity   W-spher       p-spher  \n",
       "0  3.796409e-60  0.194153  0.725494      False  0.621629  1.079301e-66  \n",
       "1           NaN       NaN       NaN        NaN       NaN           NaN  "
      ]
     },
     "execution_count": 20,
     "metadata": {},
     "output_type": "execute_result"
    }
   ],
   "source": [
    "import pingouin as pg\n",
    "\n",
    "# Compute the 1-way repeated measures ANOVA. This will return a dataframe.\n",
    "pg.rm_anova(dv='value', within=['variable'], subject='field_pixel', data=stats_df, correction=True, detailed=True)"
   ]
  },
  {
   "cell_type": "code",
   "execution_count": 21,
   "metadata": {},
   "outputs": [
    {
     "name": "stderr",
     "output_type": "stream",
     "text": [
      "C:\\Users\\alv5645\\Anaconda3\\lib\\site-packages\\pingouin\\pairwise.py:28: UserWarning: pairwise_ttests is deprecated, use pairwise_tests instead.\n",
      "  warnings.warn(\"pairwise_ttests is deprecated, use pairwise_tests instead.\", UserWarning)\n"
     ]
    },
    {
     "data": {
      "text/html": [
       "<div>\n",
       "<style scoped>\n",
       "    .dataframe tbody tr th:only-of-type {\n",
       "        vertical-align: middle;\n",
       "    }\n",
       "\n",
       "    .dataframe tbody tr th {\n",
       "        vertical-align: top;\n",
       "    }\n",
       "\n",
       "    .dataframe thead th {\n",
       "        text-align: right;\n",
       "    }\n",
       "</style>\n",
       "<table border=\"1\" class=\"dataframe\">\n",
       "  <thead>\n",
       "    <tr style=\"text-align: right;\">\n",
       "      <th></th>\n",
       "      <th>Contrast</th>\n",
       "      <th>A</th>\n",
       "      <th>B</th>\n",
       "      <th>Paired</th>\n",
       "      <th>Parametric</th>\n",
       "      <th>T</th>\n",
       "      <th>dof</th>\n",
       "      <th>alternative</th>\n",
       "      <th>p-unc</th>\n",
       "      <th>BF10</th>\n",
       "      <th>hedges</th>\n",
       "    </tr>\n",
       "  </thead>\n",
       "  <tbody>\n",
       "    <tr>\n",
       "      <th>0</th>\n",
       "      <td>variable</td>\n",
       "      <td>dsi_100</td>\n",
       "      <td>dsi_150</td>\n",
       "      <td>True</td>\n",
       "      <td>True</td>\n",
       "      <td>-20.820171</td>\n",
       "      <td>640.0</td>\n",
       "      <td>two-sided</td>\n",
       "      <td>6.579447e-74</td>\n",
       "      <td>1.849e+70</td>\n",
       "      <td>-1.018116</td>\n",
       "    </tr>\n",
       "    <tr>\n",
       "      <th>1</th>\n",
       "      <td>variable</td>\n",
       "      <td>dsi_100</td>\n",
       "      <td>dsi_300</td>\n",
       "      <td>True</td>\n",
       "      <td>True</td>\n",
       "      <td>-12.938055</td>\n",
       "      <td>640.0</td>\n",
       "      <td>two-sided</td>\n",
       "      <td>3.533092e-34</td>\n",
       "      <td>6.411e+30</td>\n",
       "      <td>-0.836486</td>\n",
       "    </tr>\n",
       "    <tr>\n",
       "      <th>2</th>\n",
       "      <td>variable</td>\n",
       "      <td>dsi_150</td>\n",
       "      <td>dsi_300</td>\n",
       "      <td>True</td>\n",
       "      <td>True</td>\n",
       "      <td>4.112982</td>\n",
       "      <td>640.0</td>\n",
       "      <td>two-sided</td>\n",
       "      <td>4.415405e-05</td>\n",
       "      <td>180.736</td>\n",
       "      <td>0.240894</td>\n",
       "    </tr>\n",
       "  </tbody>\n",
       "</table>\n",
       "</div>"
      ],
      "text/plain": [
       "   Contrast        A        B  Paired  Parametric          T    dof  \\\n",
       "0  variable  dsi_100  dsi_150    True        True -20.820171  640.0   \n",
       "1  variable  dsi_100  dsi_300    True        True -12.938055  640.0   \n",
       "2  variable  dsi_150  dsi_300    True        True   4.112982  640.0   \n",
       "\n",
       "  alternative         p-unc       BF10    hedges  \n",
       "0   two-sided  6.579447e-74  1.849e+70 -1.018116  \n",
       "1   two-sided  3.533092e-34  6.411e+30 -0.836486  \n",
       "2   two-sided  4.415405e-05    180.736  0.240894  "
      ]
     },
     "execution_count": 21,
     "metadata": {},
     "output_type": "execute_result"
    }
   ],
   "source": [
    "# Optional post-hoc tests\n",
    "pg.pairwise_ttests(dv='value', within=['variable'], subject='field_pixel', data=stats_df)"
   ]
  },
  {
   "cell_type": "code",
   "execution_count": 22,
   "metadata": {},
   "outputs": [
    {
     "data": {
      "text/html": [
       "<div>\n",
       "<style scoped>\n",
       "    .dataframe tbody tr th:only-of-type {\n",
       "        vertical-align: middle;\n",
       "    }\n",
       "\n",
       "    .dataframe tbody tr th {\n",
       "        vertical-align: top;\n",
       "    }\n",
       "\n",
       "    .dataframe thead th {\n",
       "        text-align: right;\n",
       "    }\n",
       "</style>\n",
       "<table border=\"1\" class=\"dataframe\">\n",
       "  <thead>\n",
       "    <tr style=\"text-align: right;\">\n",
       "      <th></th>\n",
       "      <th>W-val</th>\n",
       "      <th>alternative</th>\n",
       "      <th>p-val</th>\n",
       "      <th>RBC</th>\n",
       "      <th>CLES</th>\n",
       "    </tr>\n",
       "  </thead>\n",
       "  <tbody>\n",
       "    <tr>\n",
       "      <th>Wilcoxon</th>\n",
       "      <td>25243.0</td>\n",
       "      <td>two-sided</td>\n",
       "      <td>1.535013e-61</td>\n",
       "      <td>-0.754638</td>\n",
       "      <td>0.243243</td>\n",
       "    </tr>\n",
       "  </tbody>\n",
       "</table>\n",
       "</div>"
      ],
      "text/plain": [
       "            W-val alternative         p-val       RBC      CLES\n",
       "Wilcoxon  25243.0   two-sided  1.535013e-61 -0.754638  0.243243"
      ]
     },
     "execution_count": 22,
     "metadata": {},
     "output_type": "execute_result"
    },
    {
     "name": "stderr",
     "output_type": "stream",
     "text": [
      "C:\\Users\\alv5645\\Anaconda3\\lib\\site-packages\\outdated\\utils.py:14: OutdatedPackageWarning: The package outdated is out of date. Your version is 0.2.1, the latest is 0.2.2.\n",
      "Set the environment variable OUTDATED_IGNORE=1 to disable these warnings.\n",
      "  return warn(\n"
     ]
    }
   ],
   "source": [
    "#perform Wilcoxon test\n",
    "\n",
    "#100 vs 150\n",
    "pg.wilcoxon(just_dprimes['dsi_100'], just_dprimes['dsi_150'])"
   ]
  }
 ],
 "metadata": {
  "kernelspec": {
   "display_name": "Python 3 (ipykernel)",
   "language": "python",
   "name": "python3"
  },
  "language_info": {
   "codemirror_mode": {
    "name": "ipython",
    "version": 3
   },
   "file_extension": ".py",
   "mimetype": "text/x-python",
   "name": "python",
   "nbconvert_exporter": "python",
   "pygments_lexer": "ipython3",
   "version": "3.9.7"
  }
 },
 "nbformat": 4,
 "nbformat_minor": 2
}
