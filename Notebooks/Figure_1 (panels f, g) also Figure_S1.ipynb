{
 "cells": [
  {
   "cell_type": "code",
   "execution_count": 1,
   "metadata": {},
   "outputs": [],
   "source": [
    "from datetime import datetime \n",
    "import h5py\n",
    "import matplotlib.pyplot as plt \n",
    "import numpy as np\n",
    "import os\n",
    "import pandas as pd\n",
    "import seaborn as sns\n",
    "import time\n",
    "import matplotlib.cm as cm\n",
    "from matplotlib import colors\n",
    "from matplotlib.colors import LinearSegmentedColormap\n",
    "cmap = cm.get_cmap('Blues')\n",
    "import random\n",
    "from numpy.linalg import lstsq"
   ]
  },
  {
   "cell_type": "code",
   "execution_count": 2,
   "metadata": {},
   "outputs": [],
   "source": [
    "# For plotting\n",
    "\n",
    "def compute_bounds(mu, sig, n_sigma = 3):\n",
    "    \"\"\"\n",
    "    Use mean and standard deviation vectors to compute upper and lower bounds.\n",
    "    \"\"\"\n",
    "    upper = mu + n_sigma * np.sqrt(np.abs(sig))\n",
    "    lower = mu - n_sigma * np.sqrt(np.abs(sig))\n",
    "    \n",
    "    return upper, lower"
   ]
  },
  {
   "cell_type": "code",
   "execution_count": 3,
   "metadata": {},
   "outputs": [],
   "source": [
    "#read hdf5 file for this notebook\n",
    "f1 = h5py.File(\"Data/Fig1_fg.hdf5\", \"r\")\n",
    "\n",
    "#get the data for plotting the sd image\n",
    "dataCh0 = np.array(f1['panel_fg']['dataCh0'])\n",
    "roimask = np.array(f1['panel_fg']['roimask'])\n",
    "x_zoom = np.array(f1['panel_fg']['x_zoom'])\n",
    "\n",
    "f1.close()"
   ]
  },
  {
   "cell_type": "code",
   "execution_count": 4,
   "metadata": {},
   "outputs": [
    {
     "data": {
      "text/plain": [
       "<matplotlib.lines.Line2D at 0x7f68b82c49e8>"
      ]
     },
     "execution_count": 4,
     "metadata": {},
     "output_type": "execute_result"
    },
    {
     "data": {
      "image/png": "[encoded data removed]",
      "text/plain": [
       "<Figure size 432x288 with 1 Axes>"
      ]
     },
     "metadata": {
      "needs_background": "light"
     },
     "output_type": "display_data"
    }
   ],
   "source": [
    "#calculate std\n",
    "std = np.std(dataCh0, axis=2)  # standard deviation across time\n",
    "avg_projection = np.mean(dataCh0, axis=2)\n",
    "\n",
    "#plot the standard deviation image for this field\n",
    "\n",
    "plt.imshow(std[:80,:], cmap='Greys_r', origin='lower')\n",
    "\n",
    "plt.axhline(y=6, xmin=14/27.5, xmax=24/27.5, color='white')\n",
    "\n"
   ]
  },
  {
   "cell_type": "markdown",
   "metadata": {},
   "source": [
    "# Get snippets"
   ]
  },
  {
   "cell_type": "code",
   "execution_count": 5,
   "metadata": {},
   "outputs": [],
   "source": [
    "#pull this data from the hdf5 file\n",
    "data_df = pd.read_hdf('Data/Fig1_fg.hdf5', '/panel_fg/snippet_data_df')"
   ]
  },
  {
   "cell_type": "markdown",
   "metadata": {},
   "source": [
    "# Get model responses from GP (Bct)"
   ]
  },
  {
   "cell_type": "code",
   "execution_count": 6,
   "metadata": {},
   "outputs": [],
   "source": [
    "#pull this data from the hdf5 file\n",
    "results = pd.read_hdf('Data/Fig1_fg.hdf5', '/panel_fg/gp_results_df')\n",
    "results_ds = pd.read_hdf('Data/Fig1_fg.hdf5', '/panel_fg/dprime_results_df')"
   ]
  },
  {
   "cell_type": "code",
   "execution_count": 7,
   "metadata": {},
   "outputs": [],
   "source": [
    "#select a specific ROI to plot\n",
    "\n",
    "center_px_id = 631  #ROIs used in Figure: [208, 316, 631, 916, 1304, 1536, 2009,]\n",
    "color_id = 6\n",
    "results_roi = results.loc[results['center_pixel_id']==center_px_id]\n",
    "results_ds_roi = results_ds.loc[results_ds['center_pixel_id']==center_px_id]"
   ]
  },
  {
   "cell_type": "code",
   "execution_count": 8,
   "metadata": {},
   "outputs": [],
   "source": [
    "#pull out the relevant data\n",
    "mu = results_roi['mu'].values[0]\n",
    "x_predict = results_roi['x_predict'].values[0]\n",
    "sig = results_roi['sig'].values[0]\n",
    "sig_outer = results_roi['sig_outer'].values[0]\n",
    "x_predict_t = np.copy(x_predict[::mu.shape[0],:])\n",
    "\n",
    "#get SD of responses for normalization\n",
    "rois = results_roi['roi_list'].values[0]\n",
    "\n",
    "#get the average response of these rois (averaged over binned time of the traces) that was used for GP modeling\n",
    "df_GP_rois = data_df.loc[rois].groupby(\n",
    "    ['directions', 'lengths', 'trial_nums', 'time_resampled']).mean()\n",
    "\n",
    "df_GP_rois = df_GP_rois.reset_index()\n",
    "df_GP_rois = df_GP_rois.set_index(['directions', 'lengths', 'time_bin'])\n",
    "\n",
    "df_GP_rois_average = df_GP_rois.groupby(['directions', 'lengths', 'time_bin']).mean()\n",
    "\n",
    "mean_of_trace = df_GP_rois['y'].mean()\n",
    "sd_of_trace = df_GP_rois['y'].std()\n",
    "\n",
    "#normalize GP predictions for plotting\n",
    "mu1 = results_ds_roi['mu1'].values[0]\n",
    "mu2 = results_ds_roi['mu2'].values[0]\n",
    "\n",
    "mu1_norm = mu1/sd_of_trace\n",
    "mu2_norm = mu2/sd_of_trace"
   ]
  },
  {
   "cell_type": "code",
   "execution_count": 9,
   "metadata": {},
   "outputs": [
    {
     "data": {
      "text/plain": [
       "<Figure size 1080x432 with 0 Axes>"
      ]
     },
     "metadata": {},
     "output_type": "display_data"
    },
    {
     "data": {
      "image/png": "[encoded data removed]",
      "text/plain": [
       "<Figure size 720x144 with 5 Axes>"
      ]
     },
     "metadata": {
      "needs_background": "light"
     },
     "output_type": "display_data"
    }
   ],
   "source": [
    "#plot all the directions and the d' for this ROI\n",
    "plt.figure(figsize=(15, 6))\n",
    "\n",
    "directions = [0, 180]\n",
    "lengths = [100, 150]\n",
    "\n",
    "colors1 = ['peru', 'lightseagreen', 'peru', 'lightseagreen', 'peru', 'lightseagreen']\n",
    "colors2 = ['blue', 'black', 'green', 'magenta', 'purple', 'orange']\n",
    "# colors3 = cm.get_cmap('Dark2')\n",
    "\n",
    "n_conditions = mu.shape[0]\n",
    "gp_index = [0, 2, 1, 3, 5, 4]\n",
    "gp_index = [3, 0, 5, 2, 4, 1]\n",
    "\n",
    "plt.figure(figsize=(10, 2))\n",
    "# plt.title(str(d_prime))\n",
    "color = color_id/(7)\n",
    "index = 1\n",
    "# for length in lengths:\n",
    "#     for direction in directions:\n",
    "order_index = [1, 4, 2, 3]\n",
    "for index in [1,2,3,4]:\n",
    "        ax1 = plt.subplot(1,5,order_index[index-1])\n",
    "        upper, lower = compute_bounds(mu[gp_index[index-1],:]/sd_of_trace, sig[gp_index[index-1],:]/sd_of_trace, n_sigma = 3, )\n",
    "        plt.fill_between(x_predict_t[:,0], upper, lower, facecolor = 'k', alpha = 0.3, )\n",
    "        plt.plot(x_predict_t[:,0], mu[gp_index[index-1],:]/sd_of_trace, color='k', lw=0.5)\n",
    "        \n",
    "        plt.axis('off')\n",
    "        axes = plt.gca()\n",
    "        axes.set_xlim([0.5, 2.])\n",
    "        axes.set_ylim([-2, 3])\n",
    "#         plt.legend(loc='upper left')\n",
    "\n",
    "\n",
    "ax1 = plt.subplot(1,5,5)    \n",
    "# lengths = ['100', '150', '300']\n",
    "\n",
    "columns = ['origin', 'mid1', 'mid2', 'term']\n",
    "values = [mu2_norm[0], mu2_norm[1], mu1_norm[1], mu1_norm[0]]\n",
    "\n",
    "plt.plot(columns, values, color='k', marker='o')\n",
    "\n",
    "axes = plt.gca()\n",
    "axes.set_ylim([0,2.1])\n",
    "axes.set_xlim([-0.2,3.2])\n",
    "# axes.axhline(linestyle='dotted', color='k')\n",
    "# Turn off tick labels\n",
    "axes.set_yticklabels([])\n",
    "axes.set_xticklabels([])\n",
    "        \n",
    "plt.show()"
   ]
  },
  {
   "cell_type": "markdown",
   "metadata": {
    "code_folding": []
   },
   "source": [
    "# Supplementary Figure 1"
   ]
  },
  {
   "cell_type": "code",
   "execution_count": 10,
   "metadata": {
    "code_folding": [],
    "scrolled": true
   },
   "outputs": [
    {
     "data": {
      "image/png": "[encoded data removed]",
      "text/plain": [
       "<Figure size 432x288 with 1 Axes>"
      ]
     },
     "metadata": {
      "needs_background": "light"
     },
     "output_type": "display_data"
    }
   ],
   "source": [
    "#show where these pixels are\n",
    "\n",
    "roi_list_all = [results_roi['roi_list'].values[0]]\n",
    "for i, rois in enumerate(roi_list_all):\n",
    "    dsmap0 = roimask*(-1)\n",
    "    xlength = dsmap0.shape[0]\n",
    "    ylength = dsmap0.shape[1]\n",
    "    for x in range(xlength):\n",
    "        for y in range(ylength):  \n",
    "            if dsmap0[x,y] in rois:\n",
    "                dsmap0[x,y] = i+1\n",
    "            elif dsmap0[x,y]>0:\n",
    "                dsmap0[x,y] = np.nan\n",
    "            else:\n",
    "                dsmap0[x,y] = np.nan\n",
    "\n",
    "    fig=plt.figure()\n",
    "    plt.imshow(dsmap0[:80,:], cmap='rainbow', origin='lower', vmin=1, vmax=8)\n",
    "plt.show()"
   ]
  },
  {
   "cell_type": "code",
   "execution_count": 11,
   "metadata": {
    "code_folding": []
   },
   "outputs": [
    {
     "data": {
      "image/png": "[encoded data removed]",
      "text/plain": [
       "<Figure size 432x144 with 3 Axes>"
      ]
     },
     "metadata": {
      "needs_background": "light"
     },
     "output_type": "display_data"
    }
   ],
   "source": [
    "#plot the individual trials and compare GP to binned average\n",
    "#Fig. S1 shows ROI number 631\n",
    "direction = 180\n",
    "index = 3\n",
    "\n",
    "ytop=7.5\n",
    "ybottom=-3\n",
    "\n",
    "fig = plt.figure(figsize=(6,2))\n",
    "\n",
    "ax1 = plt.subplot(1,3,1)\n",
    "trial_list = df_GP_rois['trial_nums'].loc[direction,100].unique()\n",
    "offset=0\n",
    "for trial in trial_list:\n",
    "    plt.plot(df_GP_rois[df_GP_rois['trial_nums']==trial]['x_t'], \n",
    "             df_GP_rois[df_GP_rois['trial_nums']==trial]['y']/sd_of_trace, alpha=0.2, color='k', linewidth=0.5)  \n",
    "plt.plot(df_GP_rois_average['y'].loc[direction, 100]/sd_of_trace, color='k')\n",
    "ax1.set_ylim([ybottom, ytop])\n",
    "ax1.set_xlim([0.5, 2.0])\n",
    "\n",
    "\n",
    "ax2 = plt.subplot(1,3,2)\n",
    "trial_list = df_GP_rois['trial_nums'].loc[direction,100].unique()\n",
    "offset=0\n",
    "for trial in trial_list:\n",
    "    plt.scatter(df_GP_rois[df_GP_rois['trial_nums']==trial]['x_t'], \n",
    "                df_GP_rois[df_GP_rois['trial_nums']==trial]['y']/sd_of_trace, color='k', alpha=0.2, s=4) # \n",
    "ax2.set_ylim([ybottom, ytop])\n",
    "ax2.set_xlim([0.5, 2.0])\n",
    "\n",
    "\n",
    "ax3 = plt.subplot(1,3,3)\n",
    "# plt.plot(df_GP_rois_average['y'].loc[direction, 100]/sd_of_trace, color='grey')\n",
    "upper, lower = compute_bounds(mu[index,:]/sd_of_trace, sig[index,:]/sd_of_trace, n_sigma = 3)\n",
    "plt.fill_between(x_predict_t[:,0], upper, lower, facecolor = 'k', alpha = 0.5)\n",
    "plt.plot(x_predict_t[:,0], mu[index,:]/sd_of_trace, color='k')\n",
    "ax3.set_ylim([ybottom, ytop])\n",
    "ax3.set_xlim([0.5, 2.0])\n",
    "\n",
    "\n",
    "plt.show()"
   ]
  },
  {
   "cell_type": "code",
   "execution_count": 12,
   "metadata": {
    "code_folding": [],
    "scrolled": true
   },
   "outputs": [
    {
     "data": {
      "image/png": "[encoded data removed]",
      "text/plain": [
       "<Figure size 432x720 with 1 Axes>"
      ]
     },
     "metadata": {
      "needs_background": "light"
     },
     "output_type": "display_data"
    }
   ],
   "source": [
    "#plot the individual trials for Fig S1\n",
    "direction = 180\n",
    "index = 3\n",
    "\n",
    "ytop=7.5\n",
    "ybottom=-3\n",
    "\n",
    "fig = plt.figure(figsize=(6,10))\n",
    "\n",
    "ax1 = plt.subplot(1,3,1)\n",
    "trial_list = df_GP_rois['trial_nums'].loc[direction,100].unique()\n",
    "offset=7\n",
    "i = 0\n",
    "for trial in trial_list[5:13]:\n",
    "    plt.plot(df_GP_rois[df_GP_rois['trial_nums']==trial]['x_t'], \n",
    "             df_GP_rois[df_GP_rois['trial_nums']==trial]['y']/sd_of_trace+offset*i, alpha=0.5, color='k', linewidth=0.5)  \n",
    "    i+=1\n",
    "# ax1.set_ylim([ybottom, ytop])\n",
    "ax1.set_xlim([0.5, 2.0])\n",
    "\n",
    "\n",
    "plt.show()"
   ]
  },
  {
   "cell_type": "code",
   "execution_count": 13,
   "metadata": {},
   "outputs": [
    {
     "data": {
      "text/plain": [
       "<matplotlib.image.AxesImage at 0x7f68aab749b0>"
      ]
     },
     "execution_count": 13,
     "metadata": {},
     "output_type": "execute_result"
    },
    {
     "data": {
      "image/png": "[encoded data removed]",
      "text/plain": [
       "<Figure size 432x288 with 1 Axes>"
      ]
     },
     "metadata": {
      "needs_background": "light"
     },
     "output_type": "display_data"
    }
   ],
   "source": [
    "# get all example pixels and plot on the map\n",
    "\n",
    "center_pixels = [208, 316, 631, 916, 1304, 1536, 2009,]\n",
    "roi_list_all = []\n",
    "for px in center_pixels:\n",
    "    results_roilists = results.loc[results['center_pixel_id']==px]['roi_list'].values[0]\n",
    "    roi_list_all.append(results_roilists)\n",
    "\n",
    "dsmap0 = roimask*(-1)*1000\n",
    "xlength = dsmap0.shape[0]\n",
    "ylength = dsmap0.shape[1]\n",
    "\n",
    "for i, rois in enumerate(roi_list_all):\n",
    "\n",
    "    for x in range(xlength):\n",
    "        for y in range(ylength):  \n",
    "            if dsmap0[x,y]/1000 in rois:\n",
    "                dsmap0[x,y] = i+1\n",
    "#             elif dsmap0[x,y]<0:\n",
    "#                 dsmap0[x,y] = -1\n",
    "#             else:\n",
    "#                 dsmap0[x,y] = np.nan\n",
    "\n",
    "dsmap0_final = np.where(dsmap0>999, np.nan, dsmap0)\n",
    "dsmap0_final = np.where(dsmap0_final<0, np.nan, dsmap0_final)\n",
    "#     fig=plt.figure()\n",
    "plt.imshow(dsmap0_final[:80,:], origin='lower', vmin=8, vmax=9, cmap='Greys_r') #cmap='Dark2', \n"
   ]
  },
  {
   "cell_type": "markdown",
   "metadata": {},
   "source": [
    "# Map of d-prime for this field"
   ]
  },
  {
   "cell_type": "code",
   "execution_count": 14,
   "metadata": {},
   "outputs": [],
   "source": [
    "#remove non-responsive pixels, where the model failed to detect a large change in response\n",
    "\n",
    "dsi_results = results_ds.set_index('center_pixel_id')\n",
    "\n",
    "all_mu = results[['center_pixel_id', 'mu']]\n",
    "\n",
    "mu_std = np.zeros((all_mu.shape[0],6))\n",
    "\n",
    "for i, mu_i in enumerate(all_mu['mu']):\n",
    "    mu_std[i] = np.std(mu_i[:, 40:100], axis=1)\n",
    "mu_std_max = np.amax(mu_std, axis=1)\n",
    "dsi_results['mu_std_max'] = mu_std_max\n",
    "\n",
    "threshold = 0.1\n",
    "dsi_results = dsi_results[dsi_results['mu_std_max']>threshold]\n",
    "dsi_results.pop('mu_std_max')\n",
    "\n",
    "dsi_results['dsi_100'] = dsi_results['d_prime'].apply(lambda x: x[0])\n",
    "dsi_results['dsi_150'] = dsi_results['d_prime'].apply(lambda x: x[1])\n",
    "dsi_results['dsi_300'] = dsi_results['d_prime'].apply(lambda x: x[2])\n",
    "\n",
    "std_100 = dsi_results['dsi_100'].std()\n",
    "std_150 = dsi_results['dsi_150'].std()\n",
    "std_300 = dsi_results['dsi_300'].std()\n",
    "\n",
    "mean_dsi = dsi_results['d_prime'].mean()\n",
    "\n",
    "std_dsi = np.array([std_100, std_150, std_300])\n",
    "\n",
    "std_top = mean_dsi + std_dsi\n",
    "std_bottom = mean_dsi - std_dsi"
   ]
  },
  {
   "cell_type": "code",
   "execution_count": 15,
   "metadata": {},
   "outputs": [],
   "source": [
    "cm = plt.get_cmap('BrBG') #sns.diverging_palette(20, 220, n=50)\n",
    "cm.set_bad(color='lightgrey')\n",
    "color_range = 100"
   ]
  },
  {
   "cell_type": "code",
   "execution_count": 16,
   "metadata": {},
   "outputs": [
    {
     "data": {
      "image/png": "[encoded data removed]",
      "text/plain": [
       "<Figure size 720x720 with 2 Axes>"
      ]
     },
     "metadata": {
      "needs_background": "light"
     },
     "output_type": "display_data"
    }
   ],
   "source": [
    "#plot D-prime across the field (Panel g)\n",
    "roi_list = dsi_results.index.to_frame(index=False)['center_pixel_id'].unique()\n",
    "\n",
    "#make map for 100 length stimulus\n",
    "dsmap0 = roimask*(-1)\n",
    "xlength = dsmap0.shape[0]\n",
    "ylength = dsmap0.shape[1]\n",
    "for x in range(xlength):\n",
    "    for y in range(ylength):  \n",
    "        if dsmap0[x,y] in roi_list:\n",
    "            roi_index = np.int(dsmap0[x, y])\n",
    "            dsmap0[x,y] = dsi_results.loc[roi_index, 'dsi_100']\n",
    "        else:\n",
    "            dsmap0[x,y] = np.nan\n",
    "\n",
    "            \n",
    "#make map for 150 length stimulus\n",
    "dsmap1 = roimask*(-1)\n",
    "xlength = dsmap1.shape[0]\n",
    "ylength = dsmap1.shape[1]\n",
    "for x in range(xlength):\n",
    "    for y in range(ylength):  \n",
    "        if dsmap1[x,y] in roi_list:\n",
    "            roi_index = np.int(dsmap1[x, y])\n",
    "            dsmap1[x,y] = dsi_results.loc[roi_index, 'dsi_150']\n",
    "        else:\n",
    "            dsmap1[x,y] = np.nan\n",
    "\n",
    "            \n",
    "\n",
    "fig = plt.figure(figsize=(10, 10))\n",
    "\n",
    "crop = 80\n",
    "\n",
    "ax0 = fig.add_subplot(1,3,1)\n",
    "plt.imshow(dsmap0[:crop,:], cmap=cm, vmin=-1*color_range, vmax=color_range, origin='lower') #'RdYlBu'\n",
    "# cb = plt.colorbar()\n",
    "# ax1.set_ylim([10, 48])\n",
    "# ax1.set_xlim([18, 45])\n",
    "plt.axis('off')\n",
    "\n",
    "ax1 = fig.add_subplot(1,3,2)\n",
    "plt.imshow(dsmap1[:crop,:], cmap=cm, vmin=-1*color_range, vmax=color_range, origin='lower') #'RdYlBu'\n",
    "# cb = plt.colorbar()\n",
    "# ax1.set_ylim([10, 48])\n",
    "# ax1.set_xlim([18, 45])\n",
    "plt.axis('off')\n",
    "\n",
    "plt.show()"
   ]
  }
 ],
 "metadata": {
  "kernelspec": {
   "display_name": "Python 3",
   "language": "python",
   "name": "python3"
  },
  "language_info": {
   "codemirror_mode": {
    "name": "ipython",
    "version": 3
   },
   "file_extension": ".py",
   "mimetype": "text/x-python",
   "name": "python",
   "nbconvert_exporter": "python",
   "pygments_lexer": "ipython3",
   "version": "3.6.8"
  }
 },
 "nbformat": 4,
 "nbformat_minor": 2
}
