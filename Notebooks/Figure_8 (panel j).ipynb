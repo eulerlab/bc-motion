{
 "cells": [
  {
   "cell_type": "code",
   "execution_count": 1,
   "metadata": {},
   "outputs": [],
   "source": [
    "#% matplotlib inline\n",
    "\n",
    "from datetime import datetime \n",
    "import h5py\n",
    "import matplotlib.pyplot as plt \n",
    "import numpy as np\n",
    "import os\n",
    "import pandas as pd\n",
    "import seaborn as sns\n",
    "import time\n",
    "import matplotlib.cm as cm\n",
    "from matplotlib import colors\n",
    "from matplotlib.colors import LinearSegmentedColormap\n",
    "cmap = cm.get_cmap('Blues')\n",
    "import random\n",
    "\n",
    "import matplotlib as mpl\n",
    "mpl.rcParams[\"image.interpolation\"] = 'none'"
   ]
  },
  {
   "cell_type": "code",
   "execution_count": 2,
   "metadata": {},
   "outputs": [
    {
     "name": "stderr",
     "output_type": "stream",
     "text": [
      "C:\\Users\\alv5645\\AppData\\Local\\Temp/ipykernel_16652/1748600603.py:10: DeprecationWarning: `product` is deprecated as of NumPy 1.25.0, and will be removed in NumPy 2.0. Please use `prod` instead.\n",
      "  roimask = np.array(f1['roimask'+field_number])\n",
      "C:\\Users\\alv5645\\AppData\\Local\\Temp/ipykernel_16652/1748600603.py:11: DeprecationWarning: `product` is deprecated as of NumPy 1.25.0, and will be removed in NumPy 2.0. Please use `prod` instead.\n",
      "  x_zoom = np.array(f1['x_zoom'+field_number])\n"
     ]
    }
   ],
   "source": [
    "field_number = '3' #pick 1, 2, or 3 here, just plotting one field at a time\n",
    "\n",
    "#read hdf5 file for this notebook\n",
    "f1 = h5py.File(\"Data/Fig8.hdf5\", \"r\")\n",
    "\n",
    "#get the data for plotting the sd image\n",
    "\n",
    "\n",
    "\n",
    "roimask = np.array(f1['roimask'+field_number])\n",
    "x_zoom = np.array(f1['x_zoom'+field_number])\n",
    "\n",
    "\n",
    "f1.close()"
   ]
  },
  {
   "cell_type": "code",
   "execution_count": 3,
   "metadata": {
    "code_folding": []
   },
   "outputs": [],
   "source": [
    "#pull data from hdf5 file\n",
    "dsi_results = pd.read_hdf('Data/Fig8.hdf5', 'dsi_results_'+field_number)"
   ]
  },
  {
   "cell_type": "code",
   "execution_count": 4,
   "metadata": {
    "code_folding": []
   },
   "outputs": [],
   "source": [
    "#prep data and do some calculations\n",
    "dsi_results = dsi_results.rename(columns={0: \"pixel_id\", 1: \"d_prime\", 2: \"condition1\", 3:\"condition2\"})\n",
    "dsi_results = dsi_results.set_index('pixel_id')\n",
    "\n",
    "dsi_results['dsi_100'] = dsi_results['d_prime'].apply(lambda x: x[0])\n",
    "dsi_results['dsi_150'] = dsi_results['d_prime'].apply(lambda x: x[1])\n",
    "dsi_results['dsi_200'] = dsi_results['d_prime'].apply(lambda x: x[2])\n",
    "dsi_results['dsi_300'] = dsi_results['d_prime'].apply(lambda x: x[3])\n"
   ]
  },
  {
   "cell_type": "code",
   "execution_count": 5,
   "metadata": {
    "code_folding": []
   },
   "outputs": [
    {
     "name": "stderr",
     "output_type": "stream",
     "text": [
      "C:\\Users\\alv5645\\AppData\\Local\\Temp/ipykernel_16652/2768706843.py:4: MatplotlibDeprecationWarning: You are modifying the state of a globally registered colormap. This has been deprecated since 3.3 and in 3.6, you will not be able to modify a registered colormap in-place. To remove this warning, you can make a copy of the colormap first. cmap = mpl.cm.get_cmap(\"BrBG\").copy()\n",
      "  cm.set_bad(color='lightgrey')\n"
     ]
    },
    {
     "data": {
      "image/png": "[encoded data removed]",
      "text/plain": [
       "<Figure size 360x360 with 2 Axes>"
      ]
     },
     "metadata": {
      "needs_background": "light"
     },
     "output_type": "display_data"
    }
   ],
   "source": [
    "#plot the DS of individual pixels in the FOV\n",
    "\n",
    "cm = plt.get_cmap('BrBG') #sns.diverging_palette(20, 220, n=50)\n",
    "cm.set_bad(color='lightgrey')\n",
    "color_range = 100\n",
    "\n",
    "\n",
    "roi_list = dsi_results.index.to_frame(index=False)['pixel_id'].unique()\n",
    "            \n",
    "#make map for 150 length stimulus            \n",
    "dsmap2 = roimask*(-1)\n",
    "xlength = dsmap2.shape[0]\n",
    "ylength = dsmap2.shape[1]\n",
    "for x in range(xlength):\n",
    "    for y in range(ylength):  \n",
    "        if dsmap2[x,y] in roi_list:\n",
    "            roi_index = int(dsmap2[x, y])\n",
    "            dsmap2[x,y] = dsi_results.loc[roi_index, 'dsi_150']*-1\n",
    "        else:\n",
    "            dsmap2[x,y] = np.nan\n",
    "\n",
    "            \n",
    "            \n",
    "fig = plt.figure(figsize=(5, 5))\n",
    "\n",
    "\n",
    "ax1 = fig.add_subplot(1,1,1)\n",
    "plt.imshow(dsmap2, cmap=cm,  origin='lower', vmin=-1*color_range, vmax=color_range,) #'RdYlBu'\n",
    "cb = plt.colorbar()\n",
    "plt.axis('off')\n",
    "\n",
    "plt.show()"
   ]
  }
 ],
 "metadata": {
  "kernelspec": {
   "display_name": "Python 3 (ipykernel)",
   "language": "python",
   "name": "python3"
  },
  "language_info": {
   "codemirror_mode": {
    "name": "ipython",
    "version": 3
   },
   "file_extension": ".py",
   "mimetype": "text/x-python",
   "name": "python",
   "nbconvert_exporter": "python",
   "pygments_lexer": "ipython3",
   "version": "3.9.7"
  },
  "varInspector": {
   "cols": {
    "lenName": 16,
    "lenType": 16,
    "lenVar": 40
   },
   "kernels_config": {
    "python": {
     "delete_cmd_postfix": "",
     "delete_cmd_prefix": "del ",
     "library": "var_list.py",
     "varRefreshCmd": "print(var_dic_list())"
    },
    "r": {
     "delete_cmd_postfix": ") ",
     "delete_cmd_prefix": "rm(",
     "library": "var_list.r",
     "varRefreshCmd": "cat(var_dic_list()) "
    }
   },
   "types_to_exclude": [
    "module",
    "function",
    "builtin_function_or_method",
    "instance",
    "_Feature"
   ],
   "window_display": false
  }
 },
 "nbformat": 4,
 "nbformat_minor": 2
}
