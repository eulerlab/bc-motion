{
 "cells": [
  {
   "cell_type": "code",
   "execution_count": 2,
   "metadata": {
    "ExecuteTime": {
     "end_time": "2018-03-29T05:59:02.125868",
     "start_time": "2018-03-29T05:59:01.063575"
    }
   },
   "outputs": [],
   "source": [
    "#% matplotlib inline\n",
    "\n",
    "from datetime import datetime \n",
    "import h5py\n",
    "import matplotlib.pyplot as plt \n",
    "import numpy as np\n",
    "import os\n",
    "import pandas as pd\n",
    "import seaborn as sns\n",
    "import time\n",
    "import matplotlib.cm as cm\n",
    "from matplotlib import colors\n",
    "from matplotlib.colors import LinearSegmentedColormap\n",
    "cmap = cm.get_cmap('Blues')\n",
    "import random\n",
    "from numpy.linalg import lstsq\n",
    "import scipy.stats as stats\n",
    "\n",
    "# sys.path.append('/gpfs01/euler/User/avlasits/PythonCode/amacrine-analysis')\n",
    "# from AnalysisPack import * \n",
    "\n",
    "# target_user = 'Vlasits'\n",
    "\n",
    "# restriction_str = 'experimenter = \"{}\"'.format(target_user)"
   ]
  },
  {
   "cell_type": "code",
   "execution_count": 3,
   "metadata": {},
   "outputs": [],
   "source": [
    "# For plotting, from Luke\n",
    "\n",
    "def compute_bounds(mu, sig, n_sigma = 3):\n",
    "    \"\"\"\n",
    "    Use mean and standard deviation vectors to compute upper and lower bounds.\n",
    "    \"\"\"\n",
    "    upper = mu + n_sigma * np.sqrt(np.abs(sig))\n",
    "    lower = mu - n_sigma * np.sqrt(np.abs(sig))\n",
    "    \n",
    "    return upper, lower"
   ]
  },
  {
   "cell_type": "code",
   "execution_count": 7,
   "metadata": {},
   "outputs": [],
   "source": [
    "#read hdf5 file for this notebook\n",
    "f1 = h5py.File(\"Data/FigS02.hdf5\", \"r\")\n",
    "\n",
    "#get the data for plotting the sd image\n",
    "dataCh0 = np.array(f1['dataCh0'])\n",
    "roimask = np.array(f1['roimask'])\n",
    "x_zoom = np.array(f1['x_zoom'])\n",
    "z_zoom = np.array(f1['z_zoom'])\n",
    "iplmask = np.array(f1['iplmask'])\n",
    "ipl_pixels = np.array(f1['ipl_pixels'])\n",
    "left = np.array(f1['left'])\n",
    "right = np.array(f1['right'])\n",
    "thick = np.array(f1['thick'])\n",
    "\n",
    "\n",
    "f1.close()"
   ]
  },
  {
   "cell_type": "markdown",
   "metadata": {},
   "source": [
    "# Plot the sd image for this field"
   ]
  },
  {
   "cell_type": "code",
   "execution_count": 8,
   "metadata": {},
   "outputs": [],
   "source": [
    "std = np.std(dataCh0, axis=2)  # standard deviation across time\n",
    "\n",
    "#scaling\n",
    "um_pixel_z = (61.6/std.shape[1])/z_zoom\n",
    "um_pixel_x = (71.5/std.shape[0])/x_zoom\n",
    "\n",
    "aspect = ((71.5/std.shape[0])/x_zoom)/((61.6/std.shape[1])/z_zoom)"
   ]
  },
  {
   "cell_type": "code",
   "execution_count": 9,
   "metadata": {},
   "outputs": [],
   "source": [
    "#scale bar\n",
    "scale_bar_length = 20\n",
    "pixels = std.shape[0]\n",
    "\n",
    "total_length = pixels * um_pixel_x\n",
    "start = 0.8\n",
    "stop = (start*total_length+scale_bar_length)/total_length\n",
    "\n",
    "total_length_z = std.shape[1] * um_pixel_z"
   ]
  },
  {
   "cell_type": "code",
   "execution_count": 10,
   "metadata": {},
   "outputs": [
    {
     "data": {
      "text/plain": [
       "(10, 54)"
      ]
     },
     "execution_count": 10,
     "metadata": {},
     "output_type": "execute_result"
    },
    {
     "data": {
      "image/png": "[encoded data removed]",
      "text/plain": [
       "<Figure size 216x216 with 1 Axes>"
      ]
     },
     "metadata": {
      "needs_background": "light"
     },
     "output_type": "display_data"
    }
   ],
   "source": [
    "fig = plt.figure(figsize=(3,3))\n",
    "\n",
    "top_bound = 50\n",
    "bottom_bound = 15\n",
    "\n",
    "plt.imshow(std.T[:,:], cmap='Greys_r', origin='lower', aspect=1/aspect)\n",
    "# plt.axhline(top_bound)\n",
    "# plt.axhline(bottom_bound)\n",
    "axes=plt.gca()\n",
    "# axes.set_ylim([bottom_bound, top_bound])\n",
    "\n",
    "plt.axhline(50,start,stop,  color='white')\n",
    "\n",
    "axes.set_ylim([10,54])\n",
    "\n",
    "# Figpath = 'Fig_temp/'\n",
    "# savename = Figpath+\"XZ_example_std.pdf\"\n",
    "# plt.savefig(savename, transparent=True, bbox_inches='tight')"
   ]
  },
  {
   "cell_type": "markdown",
   "metadata": {},
   "source": [
    "# Get Snippets Information"
   ]
  },
  {
   "cell_type": "code",
   "execution_count": 13,
   "metadata": {},
   "outputs": [],
   "source": [
    "#pull this data from the hdf5 file\n",
    "data_df = pd.read_hdf('Data/FigS02.hdf5', 'snippet_data_df')"
   ]
  },
  {
   "cell_type": "markdown",
   "metadata": {},
   "source": [
    "# Get model responses from GP (Bct)"
   ]
  },
  {
   "cell_type": "code",
   "execution_count": 17,
   "metadata": {},
   "outputs": [],
   "source": [
    "#pull this data from the hdf5 file\n",
    "results = pd.read_hdf('Data/FigS02.hdf5', 'gp_results_df')\n",
    "results_ds = pd.read_hdf('Data/FigS02.hdf5', 'dprime_results_df')"
   ]
  },
  {
   "cell_type": "code",
   "execution_count": 18,
   "metadata": {},
   "outputs": [],
   "source": [
    "#select a specific ROI to plot\n",
    "center_px_id = 110  #ROIs used in Figure: #for DS pixel: 110, 402; for non-DS: 698, 800\n",
    "color_id = 6\n",
    "results_roi = results.loc[results['center_pixel_id']==center_px_id]\n",
    "results_ds_roi = results_ds.loc[results_ds['center_pixel_id']==center_px_id]"
   ]
  },
  {
   "cell_type": "code",
   "execution_count": 20,
   "metadata": {},
   "outputs": [],
   "source": [
    "#pull out the relevant data\n",
    "mu = results_roi['mu'].values[0]\n",
    "x_predict = results_roi['x_predict'].values[0]\n",
    "sig = results_roi['sig'].values[0]\n",
    "sig_outer = results_roi['sig_outer'].values[0]\n",
    "x_predict_t = np.copy(x_predict[::mu.shape[0],:])\n",
    "\n",
    "#get SD of responses for normalization\n",
    "rois = results_roi['roi_list'].values[0]\n",
    "\n",
    "#get the average response of these rois (averaged over binned time of the traces) that was used for GP modeling\n",
    "df_GP_rois = data_df.loc[rois].groupby(\n",
    "    ['directions', 'lengths', 'trial_nums', 'time_resampled']).mean()\n",
    "\n",
    "df_GP_rois = df_GP_rois.reset_index()\n",
    "df_GP_rois = df_GP_rois.set_index(['directions', 'lengths', 'time_bin'])\n",
    "\n",
    "df_GP_rois_average = df_GP_rois.groupby(['directions', 'lengths', 'time_bin']).mean()\n",
    "\n",
    "mean_of_trace = df_GP_rois['y'].mean()\n",
    "sd_of_trace = df_GP_rois['y'].std()\n",
    "\n",
    "#normalize GP predictions for plotting\n",
    "mu1 = results_ds_roi['mu1'].values[0]\n",
    "mu2 = results_ds_roi['mu2'].values[0]\n",
    "\n",
    "mu1_norm = mu1/sd_of_trace\n",
    "mu2_norm = mu2/sd_of_trace"
   ]
  },
  {
   "cell_type": "code",
   "execution_count": 22,
   "metadata": {},
   "outputs": [
    {
     "data": {
      "text/plain": [
       "<Figure size 1080x432 with 0 Axes>"
      ]
     },
     "metadata": {},
     "output_type": "display_data"
    },
    {
     "data": {
      "image/png": "[encoded data removed]",
      "text/plain": [
       "<Figure size 720x144 with 5 Axes>"
      ]
     },
     "metadata": {
      "needs_background": "light"
     },
     "output_type": "display_data"
    }
   ],
   "source": [
    "plt.figure(figsize=(15, 6))\n",
    "directions = [0, 180]\n",
    "lengths = [150, 300]\n",
    "\n",
    "colors1 = ['peru', 'lightseagreen', 'peru', 'lightseagreen', 'peru', 'lightseagreen']\n",
    "colors2 = ['blue', 'black', 'green', 'magenta', 'purple', 'orange']\n",
    "# colors3 = cm.get_cmap('Dark2')\n",
    "\n",
    "n_conditions = mu.shape[0]\n",
    "gp_index = [0, 2, 1, 3, 5, 4]\n",
    "gp_index = [3, 0, 5, 2, 4, 1]\n",
    "gp_index = [1, 3, 0, 2]\n",
    "color_id = 6\n",
    "\n",
    "plt.figure(figsize=(10, 2))\n",
    "\n",
    "index = 1\n",
    "for length in lengths:\n",
    "    for direction in directions:\n",
    "\n",
    "        ax1 = plt.subplot(1,5,index)\n",
    "        upper, lower = compute_bounds(mu[gp_index[index-1],:]/sd_of_trace, sig[gp_index[index-1],:]/sd_of_trace, n_sigma = 3, )\n",
    "        plt.fill_between(x_predict_t[:,0], upper, lower, facecolor = 'k', alpha = 0.3, )\n",
    "        plt.plot(x_predict_t[:,0], mu[gp_index[index-1],:]/sd_of_trace, color='k', label=str(direction)+', '+str(length), lw=0.5)\n",
    "        \n",
    "        plt.axis('off')\n",
    "        axes = plt.gca()\n",
    "        axes.set_xlim([0.5, 2.])\n",
    "        axes.set_ylim([-2, 3.5])\n",
    "        index+=1\n",
    "\n",
    "ax1 = plt.subplot(1,5,5)    \n",
    "lengths = ['150', '300']\n",
    "\n",
    "plt.plot(lengths, results_ds_roi['d_prime'].values[0], color='k', marker='o')\n",
    "\n",
    "axes = plt.gca()\n",
    "axes.set_ylim([-60,60])\n",
    "axes.set_xlim([-0.2,1.2])\n",
    "axes.axhline(linestyle='dotted', color='k')\n",
    "# Turn off tick labels\n",
    "axes.set_yticklabels([])\n",
    "axes.set_xticklabels([])\n",
    "\n",
    "# Figpath = 'Fig_temp/'\n",
    "# savename = Figpath+\"X_xz_gp_example_\"+str(pixel_ex)+\".pdf\"\n",
    "# plt.savefig(savename, transparent=True, bbox_inches='tight')\n",
    "        \n",
    "plt.show()"
   ]
  },
  {
   "cell_type": "markdown",
   "metadata": {},
   "source": [
    "# plotting a map of d' for this xz field"
   ]
  },
  {
   "cell_type": "code",
   "execution_count": 29,
   "metadata": {},
   "outputs": [],
   "source": [
    "dsi_results = results_ds.drop(columns=['experimenter', 'date', 'exp_num', 'field_id', 'stim_id', 'presentation_id','preprocess_param_set_id', 'resample_f_id', 'gp_bct_id','mu1',\n",
    "                                     'mu2','sig1','sig2','mu_max_index'])\n",
    "dsi_results = dsi_results.rename(columns={\"center_pixel_id\": \"pixel_id\"})\n",
    "dsi_results = dsi_results.set_index('pixel_id')\n"
   ]
  },
  {
   "cell_type": "code",
   "execution_count": 30,
   "metadata": {},
   "outputs": [],
   "source": [
    "#remove non-responsive pixels, where the model failed to detect a large change in response\n",
    "threshold = 0.05\n",
    "dsi_results = dsi_results[dsi_results['mu_std_max']>threshold]\n",
    "dsi_results.pop('mu_std_max')\n",
    "\n",
    "dsi_results['dsi_150'] = dsi_results['d_prime'].apply(lambda x: x[0])\n",
    "dsi_results['dsi_300'] = dsi_results['d_prime'].apply(lambda x: x[1])"
   ]
  },
  {
   "cell_type": "code",
   "execution_count": 32,
   "metadata": {},
   "outputs": [],
   "source": [
    "ipl_rois_analyzed = list(set(ipl_pixels).intersection(list(dsi_results.index.to_frame()['pixel_id'])))\n",
    "\n",
    "dsi_results = dsi_results.loc[ipl_rois_analyzed]"
   ]
  },
  {
   "cell_type": "code",
   "execution_count": 33,
   "metadata": {},
   "outputs": [],
   "source": [
    "std_150 = dsi_results['dsi_150'].std()\n",
    "std_300 = dsi_results['dsi_300'].std()\n",
    "\n",
    "mean_dsi = dsi_results['d_prime'].mean()\n",
    "\n",
    "std_dsi = np.array([std_150, std_300])\n",
    "\n",
    "std_top = mean_dsi + std_dsi\n",
    "std_bottom = mean_dsi - std_dsi"
   ]
  },
  {
   "cell_type": "code",
   "execution_count": 36,
   "metadata": {},
   "outputs": [
    {
     "data": {
      "text/plain": [
       "(51.29149501404296, 52.9152291706793)"
      ]
     },
     "execution_count": 36,
     "metadata": {},
     "output_type": "execute_result"
    }
   ],
   "source": [
    "dsi_results['dsi_150'].max(), dsi_results['dsi_300'].max()"
   ]
  },
  {
   "cell_type": "code",
   "execution_count": 37,
   "metadata": {},
   "outputs": [
    {
     "data": {
      "text/plain": [
       "(-44.08033179645053, -51.855798556542744)"
      ]
     },
     "execution_count": 37,
     "metadata": {},
     "output_type": "execute_result"
    }
   ],
   "source": [
    "dsi_results['dsi_150'].min(), dsi_results['dsi_300'].min()"
   ]
  },
  {
   "cell_type": "code",
   "execution_count": 38,
   "metadata": {},
   "outputs": [],
   "source": [
    "cm = plt.get_cmap('BrBG_r') #sns.diverging_palette(20, 220, n=50)\n",
    "cm.set_bad(color='lightgrey')\n",
    "color_range = 40"
   ]
  },
  {
   "cell_type": "code",
   "execution_count": 39,
   "metadata": {},
   "outputs": [
    {
     "data": {
      "image/png": "[encoded data removed]",
      "text/plain": [
       "<Figure size 1440x360 with 4 Axes>"
      ]
     },
     "metadata": {
      "needs_background": "light"
     },
     "output_type": "display_data"
    }
   ],
   "source": [
    "roi_list = dsi_results.index.to_frame(index=False)['pixel_id'].unique()\n",
    "\n",
    "#make map for 150 length stimulus\n",
    "dsmap1 = iplmask*(-1)\n",
    "xlength = dsmap1.shape[0]\n",
    "ylength = dsmap1.shape[1]\n",
    "for x in range(xlength):\n",
    "    for y in range(ylength):  \n",
    "        if dsmap1[x,y] in roi_list:\n",
    "            roi_index = np.int(dsmap1[x, y])\n",
    "            dsmap1[x,y] = dsi_results.loc[roi_index, 'dsi_150']\n",
    "        else:\n",
    "            dsmap1[x,y] = np.nan\n",
    "\n",
    "            \n",
    "#make map for 300 length stimulus            \n",
    "dsmap2 = iplmask*(-1)\n",
    "xlength = dsmap2.shape[0]\n",
    "ylength = dsmap2.shape[1]\n",
    "for x in range(xlength):\n",
    "    for y in range(ylength):  \n",
    "        if dsmap2[x,y] in roi_list:\n",
    "            roi_index = np.int(dsmap2[x, y])\n",
    "            dsmap2[x,y] = dsi_results.loc[roi_index, 'dsi_300']\n",
    "        else:\n",
    "            dsmap2[x,y] = np.nan\n",
    "\n",
    "                  \n",
    "fig = plt.figure(figsize=(20, 5))\n",
    "\n",
    "ax1 = fig.add_subplot(1,2,1)\n",
    "plt.imshow(dsmap1.T, cmap=cm, vmin=-1*color_range, vmax=color_range, aspect=1/aspect, origin='lower') #'RdYlBu'\n",
    "cb = plt.colorbar()\n",
    "ax1.set_ylim([10,54])\n",
    "\n",
    "\n",
    "\n",
    "ax2 = fig.add_subplot(1,2,2)\n",
    "plt.imshow(dsmap2.T, cmap=cm, vmin=-1*color_range, vmax=color_range, aspect=1/aspect, origin='lower') #'RdYlBu'\n",
    "cb = plt.colorbar()\n",
    "ax2.set_ylim([10,54])\n",
    "\n",
    "#cb.remove()\n",
    "plt.draw()\n",
    "\n",
    "\n",
    "# if plotsave == True:\n",
    "#     savename = Figpath+\"DS_map_ds_rois300_lengths300.pdf\"\n",
    "#     plt.savefig(savename, transparent=True, bbox_inches='tight')\n",
    "\n",
    "# Figpath = 'Fig_temp/'\n",
    "# savename = Figpath+\"Xz_dsi_maps.pdf\"\n",
    "# plt.savefig(savename, transparent=True, bbox_inches='tight')\n",
    "\n",
    "plt.show()"
   ]
  },
  {
   "cell_type": "code",
   "execution_count": 41,
   "metadata": {},
   "outputs": [
    {
     "data": {
      "text/plain": [
       "(-0.15, 1.15)"
      ]
     },
     "execution_count": 41,
     "metadata": {},
     "output_type": "execute_result"
    },
    {
     "data": {
      "image/png": "[encoded data removed]",
      "text/plain": [
       "<Figure size 144x144 with 1 Axes>"
      ]
     },
     "metadata": {
      "needs_background": "light"
     },
     "output_type": "display_data"
    }
   ],
   "source": [
    "from pandas.plotting import parallel_coordinates\n",
    "\n",
    "toplot = dsi_results.reset_index()\n",
    "plt.figure(figsize = (2,2))\n",
    "\n",
    "\n",
    "\n",
    "\n",
    "ax = plt.subplot(1,1,1)\n",
    "parallel_coordinates(toplot, 'pixel_id', cols=['dsi_150', 'dsi_300'], color = 'grey', linewidth=0.2)#colormap='Greys',linestyle='dotted', marker = '.',\n",
    "\n",
    "# parallel_coordinates(toplot, 'pixel_id', cols=['dsi_150', 'dsi_300'], color = 'black', linewidth=0.2)#colormap='Greys',linestyle='dotted', marker = '.',\n",
    "\n",
    "\n",
    "plt.plot(mean_dsi, color='k', linewidth=3, marker='o')\n",
    "plt.plot(std_top, color='k', linestyle='', marker='_')\n",
    "plt.plot(std_bottom, color='k', linestyle='', marker='_')\n",
    "\n",
    "ax.legend().remove()\n",
    "ax.grid(False)\n",
    "ax.axhline(color='k', linestyle='dotted')\n",
    "ax.set_xlim([-0.15,1.15])\n",
    "\n",
    "\n",
    "# Figpath = 'Fig_temp/'\n",
    "# savename = Figpath+\"Xz_dsi_pixels.pdf\"\n",
    "# plt.savefig(savename, transparent=True, bbox_inches='tight')"
   ]
  },
  {
   "cell_type": "code",
   "execution_count": 42,
   "metadata": {},
   "outputs": [
    {
     "data": {
      "text/plain": [
       "Ttest_relResult(statistic=8.867319000976726, pvalue=2.954631344896726e-17)"
      ]
     },
     "execution_count": 42,
     "metadata": {},
     "output_type": "execute_result"
    }
   ],
   "source": [
    "result = stats.ttest_rel(dsi_results['dsi_150'], dsi_results['dsi_300'])\n",
    "result"
   ]
  },
  {
   "cell_type": "code",
   "execution_count": 49,
   "metadata": {},
   "outputs": [],
   "source": [
    "# set up the depth estimation\n",
    "def get_line(points):\n",
    "    x_coords, y_coords = zip(*points)\n",
    "    A = np.vstack([x_coords,np.ones(len(x_coords))]).T\n",
    "    m, c = lstsq(A, y_coords, rcond=None)[0]\n",
    "    \n",
    "    return m, c"
   ]
  },
  {
   "cell_type": "code",
   "execution_count": 50,
   "metadata": {},
   "outputs": [
    {
     "name": "stdout",
     "output_type": "stream",
     "text": [
      "23.76\n"
     ]
    }
   ],
   "source": [
    "df = dsi_results\n",
    "roi_list = df.index.to_frame(index=False)['pixel_id']\n",
    "d_prime_depth = np.zeros((len(roi_list),3))\n",
    "roi_x_positions = np.zeros((len(roi_list)))\n",
    "dsmap = roimask*(-1)\n",
    "\n",
    "#get line of the gcl and inl\n",
    "m1, b1 = get_line([(0,left), (63,right)])\n",
    "#     m2, b2 = get_line([(0,left+thick),(63,right+thick)])\n",
    "\n",
    "for index, roi in enumerate(roi_list):\n",
    "    shift = m1*np.where(dsmap==roi)[0][0]+b1\n",
    "    d_prime_depth[index,0]=(np.where(dsmap==roi)[1][0]-shift)/thick #percentage of distance from GCL to INL\n",
    "    d_prime_depth[index,1]=df.loc[roi, 'dsi_150']\n",
    "    d_prime_depth[index,2]=df.loc[roi, 'dsi_300']\n",
    "\n",
    "\n",
    "print(thick*um_pixel_z)"
   ]
  },
  {
   "cell_type": "code",
   "execution_count": 51,
   "metadata": {},
   "outputs": [
    {
     "data": {
      "text/plain": [
       "(-60, 60)"
      ]
     },
     "execution_count": 51,
     "metadata": {},
     "output_type": "execute_result"
    },
    {
     "data": {
      "image/png": "[encoded data removed]",
      "text/plain": [
       "<Figure size 144x216 with 1 Axes>"
      ]
     },
     "metadata": {
      "needs_background": "light"
     },
     "output_type": "display_data"
    }
   ],
   "source": [
    "plt.figure(figsize = (2,3))\n",
    "plt.axvline(color = 'k', linestyle='dotted')\n",
    "plt.scatter(d_prime_depth[:,2], d_prime_depth[:,0], marker='.', alpha=0.5, color='k')#, color='lightseagreen')\n",
    "# plt.scatter(d_prime_depth[:,1], d_prime_depth[:,0], marker='.', alpha=0.5, color='peru')\n",
    "\n",
    "\n",
    "axes = plt.gca()\n",
    "axes.set_ylim([-.1, 1.1])\n",
    "axes.set_xlim([-60, 60])\n",
    "\n",
    "# Figpath = 'Fig_temp/'\n",
    "# savename = Figpath+\"Xz_dsi_pixels_depth_300.pdf\"\n",
    "# plt.savefig(savename, transparent=True, bbox_inches='tight')"
   ]
  },
  {
   "cell_type": "code",
   "execution_count": 52,
   "metadata": {},
   "outputs": [
    {
     "data": {
      "text/plain": [
       "(-60, 60)"
      ]
     },
     "execution_count": 52,
     "metadata": {},
     "output_type": "execute_result"
    },
    {
     "data": {
      "image/png": "[encoded data removed]",
      "text/plain": [
       "<Figure size 144x216 with 1 Axes>"
      ]
     },
     "metadata": {
      "needs_background": "light"
     },
     "output_type": "display_data"
    }
   ],
   "source": [
    "plt.figure(figsize = (2,3))\n",
    "plt.axvline(color = 'k', linestyle='dotted')\n",
    "# plt.scatter(d_prime_depth[:,2], d_prime_depth[:,0], marker='.', alpha=0.5, color='lightseagreen')\n",
    "plt.scatter(d_prime_depth[:,1], d_prime_depth[:,0], marker='.', alpha=0.5,color='k')# color='peru')\n",
    "\n",
    "\n",
    "axes = plt.gca()\n",
    "axes.set_ylim([-.1, 1.1])\n",
    "axes.set_xlim([-60, 60])\n",
    "\n",
    "# Figpath = 'Fig_temp/'\n",
    "# savename = Figpath+\"Xz_dsi_pixels_depth_150.pdf\"\n",
    "# plt.savefig(savename, transparent=True, bbox_inches='tight')"
   ]
  }
 ],
 "metadata": {
  "kernelspec": {
   "display_name": "Python 3",
   "language": "python",
   "name": "python3"
  },
  "language_info": {
   "codemirror_mode": {
    "name": "ipython",
    "version": 3
   },
   "file_extension": ".py",
   "mimetype": "text/x-python",
   "name": "python",
   "nbconvert_exporter": "python",
   "pygments_lexer": "ipython3",
   "version": "3.6.8"
  },
  "varInspector": {
   "cols": {
    "lenName": 16,
    "lenType": 16,
    "lenVar": 40
   },
   "kernels_config": {
    "python": {
     "delete_cmd_postfix": "",
     "delete_cmd_prefix": "del ",
     "library": "var_list.py",
     "varRefreshCmd": "print(var_dic_list())"
    },
    "r": {
     "delete_cmd_postfix": ") ",
     "delete_cmd_prefix": "rm(",
     "library": "var_list.r",
     "varRefreshCmd": "cat(var_dic_list()) "
    }
   },
   "position": {
    "height": "551px",
    "left": "768px",
    "right": "20px",
    "top": "-6px",
    "width": "476px"
   },
   "types_to_exclude": [
    "module",
    "function",
    "builtin_function_or_method",
    "instance",
    "_Feature"
   ],
   "window_display": false
  }
 },
 "nbformat": 4,
 "nbformat_minor": 4
}
